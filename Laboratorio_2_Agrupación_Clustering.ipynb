{
  "cells": [
    {
      "cell_type": "markdown",
      "metadata": {
        "id": "PSO0N4nm5iiy"
      },
      "source": [
        "# 1.Preparación de datos"
      ]
    },
    {
      "cell_type": "markdown",
      "metadata": {
        "id": "kNmS9yEZ5tG1"
      },
      "source": [
        "## 1.1 Carga de librerías necesarias para implementación"
      ]
    },
    {
      "cell_type": "code",
      "execution_count": 972,
      "metadata": {},
      "outputs": [
        {
          "name": "stdout",
          "output_type": "stream",
          "text": [
            "Requirement already satisfied: pandas in /Users/juanjo/.pyenv/versions/3.9.2/lib/python3.9/site-packages (2.2.3)\n",
            "Requirement already satisfied: numpy>=1.22.4 in /Users/juanjo/.pyenv/versions/3.9.2/lib/python3.9/site-packages (from pandas) (1.26.4)\n",
            "Requirement already satisfied: python-dateutil>=2.8.2 in /Users/juanjo/.pyenv/versions/3.9.2/lib/python3.9/site-packages (from pandas) (2.9.0.post0)\n",
            "Requirement already satisfied: pytz>=2020.1 in /Users/juanjo/.pyenv/versions/3.9.2/lib/python3.9/site-packages (from pandas) (2025.1)\n",
            "Requirement already satisfied: tzdata>=2022.7 in /Users/juanjo/.pyenv/versions/3.9.2/lib/python3.9/site-packages (from pandas) (2025.1)\n",
            "Requirement already satisfied: six>=1.5 in /Users/juanjo/.pyenv/versions/3.9.2/lib/python3.9/site-packages (from python-dateutil>=2.8.2->pandas) (1.17.0)\n",
            "Requirement already satisfied: numpy in /Users/juanjo/.pyenv/versions/3.9.2/lib/python3.9/site-packages (1.26.4)\n",
            "Requirement already satisfied: matplotlib in /Users/juanjo/.pyenv/versions/3.9.2/lib/python3.9/site-packages (3.9.4)\n",
            "Requirement already satisfied: contourpy>=1.0.1 in /Users/juanjo/.pyenv/versions/3.9.2/lib/python3.9/site-packages (from matplotlib) (1.3.0)\n",
            "Requirement already satisfied: cycler>=0.10 in /Users/juanjo/.pyenv/versions/3.9.2/lib/python3.9/site-packages (from matplotlib) (0.12.1)\n",
            "Requirement already satisfied: fonttools>=4.22.0 in /Users/juanjo/.pyenv/versions/3.9.2/lib/python3.9/site-packages (from matplotlib) (4.55.8)\n",
            "Requirement already satisfied: kiwisolver>=1.3.1 in /Users/juanjo/.pyenv/versions/3.9.2/lib/python3.9/site-packages (from matplotlib) (1.4.7)\n",
            "Requirement already satisfied: numpy>=1.23 in /Users/juanjo/.pyenv/versions/3.9.2/lib/python3.9/site-packages (from matplotlib) (1.26.4)\n",
            "Requirement already satisfied: packaging>=20.0 in /Users/juanjo/.pyenv/versions/3.9.2/lib/python3.9/site-packages (from matplotlib) (24.2)\n",
            "Requirement already satisfied: pillow>=8 in /Users/juanjo/.pyenv/versions/3.9.2/lib/python3.9/site-packages (from matplotlib) (11.1.0)\n",
            "Requirement already satisfied: pyparsing>=2.3.1 in /Users/juanjo/.pyenv/versions/3.9.2/lib/python3.9/site-packages (from matplotlib) (3.2.1)\n",
            "Requirement already satisfied: python-dateutil>=2.7 in /Users/juanjo/.pyenv/versions/3.9.2/lib/python3.9/site-packages (from matplotlib) (2.9.0.post0)\n",
            "Requirement already satisfied: importlib-resources>=3.2.0 in /Users/juanjo/.pyenv/versions/3.9.2/lib/python3.9/site-packages (from matplotlib) (6.5.2)\n",
            "Requirement already satisfied: zipp>=3.1.0 in /Users/juanjo/.pyenv/versions/3.9.2/lib/python3.9/site-packages (from importlib-resources>=3.2.0->matplotlib) (3.21.0)\n",
            "Requirement already satisfied: six>=1.5 in /Users/juanjo/.pyenv/versions/3.9.2/lib/python3.9/site-packages (from python-dateutil>=2.7->matplotlib) (1.17.0)\n",
            "Requirement already satisfied: seaborn in /Users/juanjo/.pyenv/versions/3.9.2/lib/python3.9/site-packages (0.13.2)\n",
            "Requirement already satisfied: numpy!=1.24.0,>=1.20 in /Users/juanjo/.pyenv/versions/3.9.2/lib/python3.9/site-packages (from seaborn) (1.26.4)\n",
            "Requirement already satisfied: pandas>=1.2 in /Users/juanjo/.pyenv/versions/3.9.2/lib/python3.9/site-packages (from seaborn) (2.2.3)\n",
            "Requirement already satisfied: matplotlib!=3.6.1,>=3.4 in /Users/juanjo/.pyenv/versions/3.9.2/lib/python3.9/site-packages (from seaborn) (3.9.4)\n",
            "Requirement already satisfied: contourpy>=1.0.1 in /Users/juanjo/.pyenv/versions/3.9.2/lib/python3.9/site-packages (from matplotlib!=3.6.1,>=3.4->seaborn) (1.3.0)\n",
            "Requirement already satisfied: cycler>=0.10 in /Users/juanjo/.pyenv/versions/3.9.2/lib/python3.9/site-packages (from matplotlib!=3.6.1,>=3.4->seaborn) (0.12.1)\n",
            "Requirement already satisfied: fonttools>=4.22.0 in /Users/juanjo/.pyenv/versions/3.9.2/lib/python3.9/site-packages (from matplotlib!=3.6.1,>=3.4->seaborn) (4.55.8)\n",
            "Requirement already satisfied: kiwisolver>=1.3.1 in /Users/juanjo/.pyenv/versions/3.9.2/lib/python3.9/site-packages (from matplotlib!=3.6.1,>=3.4->seaborn) (1.4.7)\n",
            "Requirement already satisfied: packaging>=20.0 in /Users/juanjo/.pyenv/versions/3.9.2/lib/python3.9/site-packages (from matplotlib!=3.6.1,>=3.4->seaborn) (24.2)\n",
            "Requirement already satisfied: pillow>=8 in /Users/juanjo/.pyenv/versions/3.9.2/lib/python3.9/site-packages (from matplotlib!=3.6.1,>=3.4->seaborn) (11.1.0)\n",
            "Requirement already satisfied: pyparsing>=2.3.1 in /Users/juanjo/.pyenv/versions/3.9.2/lib/python3.9/site-packages (from matplotlib!=3.6.1,>=3.4->seaborn) (3.2.1)\n",
            "Requirement already satisfied: python-dateutil>=2.7 in /Users/juanjo/.pyenv/versions/3.9.2/lib/python3.9/site-packages (from matplotlib!=3.6.1,>=3.4->seaborn) (2.9.0.post0)\n",
            "Requirement already satisfied: importlib-resources>=3.2.0 in /Users/juanjo/.pyenv/versions/3.9.2/lib/python3.9/site-packages (from matplotlib!=3.6.1,>=3.4->seaborn) (6.5.2)\n",
            "Requirement already satisfied: pytz>=2020.1 in /Users/juanjo/.pyenv/versions/3.9.2/lib/python3.9/site-packages (from pandas>=1.2->seaborn) (2025.1)\n",
            "Requirement already satisfied: tzdata>=2022.7 in /Users/juanjo/.pyenv/versions/3.9.2/lib/python3.9/site-packages (from pandas>=1.2->seaborn) (2025.1)\n",
            "Requirement already satisfied: zipp>=3.1.0 in /Users/juanjo/.pyenv/versions/3.9.2/lib/python3.9/site-packages (from importlib-resources>=3.2.0->matplotlib!=3.6.1,>=3.4->seaborn) (3.21.0)\n",
            "Requirement already satisfied: six>=1.5 in /Users/juanjo/.pyenv/versions/3.9.2/lib/python3.9/site-packages (from python-dateutil>=2.7->matplotlib!=3.6.1,>=3.4->seaborn) (1.17.0)\n",
            "Collecting sklearn\n",
            "  Using cached sklearn-0.0.post12.tar.gz (2.6 kB)\n",
            "  Preparing metadata (setup.py) ... \u001b[?25lerror\n",
            "  \u001b[1;31merror\u001b[0m: \u001b[1msubprocess-exited-with-error\u001b[0m\n",
            "  \n",
            "  \u001b[31m×\u001b[0m \u001b[32mpython setup.py egg_info\u001b[0m did not run successfully.\n",
            "  \u001b[31m│\u001b[0m exit code: \u001b[1;36m1\u001b[0m\n",
            "  \u001b[31m╰─>\u001b[0m \u001b[31m[15 lines of output]\u001b[0m\n",
            "  \u001b[31m   \u001b[0m The 'sklearn' PyPI package is deprecated, use 'scikit-learn'\n",
            "  \u001b[31m   \u001b[0m rather than 'sklearn' for pip commands.\n",
            "  \u001b[31m   \u001b[0m \n",
            "  \u001b[31m   \u001b[0m Here is how to fix this error in the main use cases:\n",
            "  \u001b[31m   \u001b[0m - use 'pip install scikit-learn' rather than 'pip install sklearn'\n",
            "  \u001b[31m   \u001b[0m - replace 'sklearn' by 'scikit-learn' in your pip requirements files\n",
            "  \u001b[31m   \u001b[0m   (requirements.txt, setup.py, setup.cfg, Pipfile, etc ...)\n",
            "  \u001b[31m   \u001b[0m - if the 'sklearn' package is used by one of your dependencies,\n",
            "  \u001b[31m   \u001b[0m   it would be great if you take some time to track which package uses\n",
            "  \u001b[31m   \u001b[0m   'sklearn' instead of 'scikit-learn' and report it to their issue tracker\n",
            "  \u001b[31m   \u001b[0m - as a last resort, set the environment variable\n",
            "  \u001b[31m   \u001b[0m   SKLEARN_ALLOW_DEPRECATED_SKLEARN_PACKAGE_INSTALL=True to avoid this error\n",
            "  \u001b[31m   \u001b[0m \n",
            "  \u001b[31m   \u001b[0m More information is available at\n",
            "  \u001b[31m   \u001b[0m https://github.com/scikit-learn/sklearn-pypi-package\n",
            "  \u001b[31m   \u001b[0m \u001b[31m[end of output]\u001b[0m\n",
            "  \n",
            "  \u001b[1;35mnote\u001b[0m: This error originates from a subprocess, and is likely not a problem with pip.\n",
            "\u001b[?25h\u001b[1;31merror\u001b[0m: \u001b[1mmetadata-generation-failed\u001b[0m\n",
            "\n",
            "\u001b[31m×\u001b[0m Encountered error while generating package metadata.\n",
            "\u001b[31m╰─>\u001b[0m See above for output.\n",
            "\n",
            "\u001b[1;35mnote\u001b[0m: This is an issue with the package mentioned above, not pip.\n",
            "\u001b[1;36mhint\u001b[0m: See above for details.\n",
            "\u001b[31mERROR: Could not find a version that satisfies the requirement mpl_toolkits (from versions: none)\u001b[0m\u001b[31m\n",
            "\u001b[0m\u001b[31mERROR: No matching distribution found for mpl_toolkits\u001b[0m\u001b[31m\n",
            "\u001b[0mRequirement already satisfied: inflect in /Users/juanjo/.pyenv/versions/3.9.2/lib/python3.9/site-packages (7.5.0)\n",
            "Requirement already satisfied: more_itertools>=8.5.0 in /Users/juanjo/.pyenv/versions/3.9.2/lib/python3.9/site-packages (from inflect) (10.6.0)\n",
            "Requirement already satisfied: typeguard>=4.0.1 in /Users/juanjo/.pyenv/versions/3.9.2/lib/python3.9/site-packages (from inflect) (4.4.2)\n",
            "Requirement already satisfied: importlib_metadata>=3.6 in /Users/juanjo/.pyenv/versions/3.9.2/lib/python3.9/site-packages (from typeguard>=4.0.1->inflect) (8.6.1)\n",
            "Requirement already satisfied: typing_extensions>=4.10.0 in /Users/juanjo/.pyenv/versions/3.9.2/lib/python3.9/site-packages (from typeguard>=4.0.1->inflect) (4.12.2)\n",
            "Requirement already satisfied: zipp>=3.20 in /Users/juanjo/.pyenv/versions/3.9.2/lib/python3.9/site-packages (from importlib_metadata>=3.6->typeguard>=4.0.1->inflect) (3.21.0)\n",
            "Requirement already satisfied: contractions in /Users/juanjo/.pyenv/versions/3.9.2/lib/python3.9/site-packages (0.1.73)\n",
            "Requirement already satisfied: textsearch>=0.0.21 in /Users/juanjo/.pyenv/versions/3.9.2/lib/python3.9/site-packages (from contractions) (0.0.24)\n",
            "Requirement already satisfied: anyascii in /Users/juanjo/.pyenv/versions/3.9.2/lib/python3.9/site-packages (from textsearch>=0.0.21->contractions) (0.3.2)\n",
            "Requirement already satisfied: pyahocorasick in /Users/juanjo/.pyenv/versions/3.9.2/lib/python3.9/site-packages (from textsearch>=0.0.21->contractions) (2.1.0)\n",
            "Requirement already satisfied: scikit-plot in /Users/juanjo/.pyenv/versions/3.9.2/lib/python3.9/site-packages (0.3.7)\n",
            "Requirement already satisfied: matplotlib>=1.4.0 in /Users/juanjo/.pyenv/versions/3.9.2/lib/python3.9/site-packages (from scikit-plot) (3.9.4)\n",
            "Requirement already satisfied: scikit-learn>=0.18 in /Users/juanjo/.pyenv/versions/3.9.2/lib/python3.9/site-packages (from scikit-plot) (1.6.1)\n",
            "Requirement already satisfied: scipy>=0.9 in /Users/juanjo/.pyenv/versions/3.9.2/lib/python3.9/site-packages (from scikit-plot) (1.13.1)\n",
            "Requirement already satisfied: joblib>=0.10 in /Users/juanjo/.pyenv/versions/3.9.2/lib/python3.9/site-packages (from scikit-plot) (1.4.2)\n",
            "Requirement already satisfied: contourpy>=1.0.1 in /Users/juanjo/.pyenv/versions/3.9.2/lib/python3.9/site-packages (from matplotlib>=1.4.0->scikit-plot) (1.3.0)\n",
            "Requirement already satisfied: cycler>=0.10 in /Users/juanjo/.pyenv/versions/3.9.2/lib/python3.9/site-packages (from matplotlib>=1.4.0->scikit-plot) (0.12.1)\n",
            "Requirement already satisfied: fonttools>=4.22.0 in /Users/juanjo/.pyenv/versions/3.9.2/lib/python3.9/site-packages (from matplotlib>=1.4.0->scikit-plot) (4.55.8)\n",
            "Requirement already satisfied: kiwisolver>=1.3.1 in /Users/juanjo/.pyenv/versions/3.9.2/lib/python3.9/site-packages (from matplotlib>=1.4.0->scikit-plot) (1.4.7)\n",
            "Requirement already satisfied: numpy>=1.23 in /Users/juanjo/.pyenv/versions/3.9.2/lib/python3.9/site-packages (from matplotlib>=1.4.0->scikit-plot) (1.26.4)\n",
            "Requirement already satisfied: packaging>=20.0 in /Users/juanjo/.pyenv/versions/3.9.2/lib/python3.9/site-packages (from matplotlib>=1.4.0->scikit-plot) (24.2)\n",
            "Requirement already satisfied: pillow>=8 in /Users/juanjo/.pyenv/versions/3.9.2/lib/python3.9/site-packages (from matplotlib>=1.4.0->scikit-plot) (11.1.0)\n",
            "Requirement already satisfied: pyparsing>=2.3.1 in /Users/juanjo/.pyenv/versions/3.9.2/lib/python3.9/site-packages (from matplotlib>=1.4.0->scikit-plot) (3.2.1)\n",
            "Requirement already satisfied: python-dateutil>=2.7 in /Users/juanjo/.pyenv/versions/3.9.2/lib/python3.9/site-packages (from matplotlib>=1.4.0->scikit-plot) (2.9.0.post0)\n",
            "Requirement already satisfied: importlib-resources>=3.2.0 in /Users/juanjo/.pyenv/versions/3.9.2/lib/python3.9/site-packages (from matplotlib>=1.4.0->scikit-plot) (6.5.2)\n",
            "Requirement already satisfied: threadpoolctl>=3.1.0 in /Users/juanjo/.pyenv/versions/3.9.2/lib/python3.9/site-packages (from scikit-learn>=0.18->scikit-plot) (3.5.0)\n",
            "Requirement already satisfied: zipp>=3.1.0 in /Users/juanjo/.pyenv/versions/3.9.2/lib/python3.9/site-packages (from importlib-resources>=3.2.0->matplotlib>=1.4.0->scikit-plot) (3.21.0)\n",
            "Requirement already satisfied: six>=1.5 in /Users/juanjo/.pyenv/versions/3.9.2/lib/python3.9/site-packages (from python-dateutil>=2.7->matplotlib>=1.4.0->scikit-plot) (1.17.0)\n",
            "Collecting en-core-web-sm==3.8.0\n",
            "  Downloading https://github.com/explosion/spacy-models/releases/download/en_core_web_sm-3.8.0/en_core_web_sm-3.8.0-py3-none-any.whl (12.8 MB)\n",
            "\u001b[2K     \u001b[90m━━━━━━━━━━━━━━━━━━━━━━━━━━━━━━━━━━━━━━━━\u001b[0m \u001b[32m12.8/12.8 MB\u001b[0m \u001b[31m7.6 MB/s\u001b[0m eta \u001b[36m0:00:00\u001b[0m00:01\u001b[0m00:01\u001b[0m\n",
            "\u001b[?25h\u001b[38;5;2m✔ Download and installation successful\u001b[0m\n",
            "You can now load the package via spacy.load('en_core_web_sm')\n"
          ]
        }
      ],
      "source": [
        "!pip install pandas\n",
        "!pip install numpy\n",
        "!pip install matplotlib\n",
        "!pip install seaborn\n",
        "!pip install sklearn\n",
        "!pip install mpl_toolkits\n",
        "!pip install inflect\n",
        "!pip install contractions \n",
        "!pip install scikit-plot\n",
        "!python -m spacy download en_core_web_sm\n"
      ]
    },
    {
      "cell_type": "code",
      "execution_count": 973,
      "metadata": {
        "id": "Y_5RhSD95cXr"
      },
      "outputs": [
        {
          "name": "stderr",
          "output_type": "stream",
          "text": [
            "[nltk_data] Downloading package punkt to /Users/juanjo/nltk_data...\n",
            "[nltk_data]   Package punkt is already up-to-date!\n",
            "[nltk_data] Downloading package stopwords to\n",
            "[nltk_data]     /Users/juanjo/nltk_data...\n",
            "[nltk_data]   Package stopwords is already up-to-date!\n",
            "[nltk_data] Downloading package wordnet to /Users/juanjo/nltk_data...\n",
            "[nltk_data]   Package wordnet is already up-to-date!\n",
            "[nltk_data] Downloading package punkt_tab to\n",
            "[nltk_data]     /Users/juanjo/nltk_data...\n",
            "[nltk_data]   Package punkt_tab is already up-to-date!\n"
          ]
        },
        {
          "name": "stdout",
          "output_type": "stream",
          "text": [
            "Requirement already satisfied: pandas-profiling in /Users/juanjo/.pyenv/versions/3.9.2/lib/python3.9/site-packages (3.6.6)\n",
            "Requirement already satisfied: ydata-profiling in /Users/juanjo/.pyenv/versions/3.9.2/lib/python3.9/site-packages (from pandas-profiling) (4.13.0)\n",
            "Requirement already satisfied: scipy<1.14,>=1.4.1 in /Users/juanjo/.pyenv/versions/3.9.2/lib/python3.9/site-packages (from ydata-profiling->pandas-profiling) (1.13.1)\n",
            "Requirement already satisfied: pandas!=1.4.0,<3.0,>1.1 in /Users/juanjo/.pyenv/versions/3.9.2/lib/python3.9/site-packages (from ydata-profiling->pandas-profiling) (2.2.3)\n",
            "Requirement already satisfied: matplotlib<=3.10,>=3.5 in /Users/juanjo/.pyenv/versions/3.9.2/lib/python3.9/site-packages (from ydata-profiling->pandas-profiling) (3.9.4)\n",
            "Requirement already satisfied: pydantic>=2 in /Users/juanjo/.pyenv/versions/3.9.2/lib/python3.9/site-packages (from ydata-profiling->pandas-profiling) (2.10.6)\n",
            "Requirement already satisfied: PyYAML<6.1,>=5.0.0 in /Users/juanjo/.pyenv/versions/3.9.2/lib/python3.9/site-packages (from ydata-profiling->pandas-profiling) (6.0.2)\n",
            "Requirement already satisfied: jinja2<3.2,>=2.11.1 in /Users/juanjo/.pyenv/versions/3.9.2/lib/python3.9/site-packages (from ydata-profiling->pandas-profiling) (3.1.5)\n",
            "Requirement already satisfied: visions<0.7.7,>=0.7.5 in /Users/juanjo/.pyenv/versions/3.9.2/lib/python3.9/site-packages (from visions[type_image_path]<0.7.7,>=0.7.5->ydata-profiling->pandas-profiling) (0.7.6)\n",
            "Requirement already satisfied: numpy<2.2,>=1.16.0 in /Users/juanjo/.pyenv/versions/3.9.2/lib/python3.9/site-packages (from ydata-profiling->pandas-profiling) (1.26.4)\n",
            "Requirement already satisfied: htmlmin==0.1.12 in /Users/juanjo/.pyenv/versions/3.9.2/lib/python3.9/site-packages (from ydata-profiling->pandas-profiling) (0.1.12)\n",
            "Requirement already satisfied: phik<0.13,>=0.11.1 in /Users/juanjo/.pyenv/versions/3.9.2/lib/python3.9/site-packages (from ydata-profiling->pandas-profiling) (0.12.4)\n",
            "Requirement already satisfied: requests<3,>=2.24.0 in /Users/juanjo/.pyenv/versions/3.9.2/lib/python3.9/site-packages (from ydata-profiling->pandas-profiling) (2.32.3)\n",
            "Requirement already satisfied: tqdm<5,>=4.48.2 in /Users/juanjo/.pyenv/versions/3.9.2/lib/python3.9/site-packages (from ydata-profiling->pandas-profiling) (4.67.1)\n",
            "Requirement already satisfied: seaborn<0.14,>=0.10.1 in /Users/juanjo/.pyenv/versions/3.9.2/lib/python3.9/site-packages (from ydata-profiling->pandas-profiling) (0.13.2)\n",
            "Requirement already satisfied: multimethod<2,>=1.4 in /Users/juanjo/.pyenv/versions/3.9.2/lib/python3.9/site-packages (from ydata-profiling->pandas-profiling) (1.12)\n",
            "Requirement already satisfied: statsmodels<1,>=0.13.2 in /Users/juanjo/.pyenv/versions/3.9.2/lib/python3.9/site-packages (from ydata-profiling->pandas-profiling) (0.14.4)\n",
            "Requirement already satisfied: typeguard<5,>=3 in /Users/juanjo/.pyenv/versions/3.9.2/lib/python3.9/site-packages (from ydata-profiling->pandas-profiling) (4.4.2)\n",
            "Requirement already satisfied: imagehash==4.3.1 in /Users/juanjo/.pyenv/versions/3.9.2/lib/python3.9/site-packages (from ydata-profiling->pandas-profiling) (4.3.1)\n",
            "Requirement already satisfied: wordcloud>=1.9.3 in /Users/juanjo/.pyenv/versions/3.9.2/lib/python3.9/site-packages (from ydata-profiling->pandas-profiling) (1.9.4)\n",
            "Requirement already satisfied: dacite>=1.8 in /Users/juanjo/.pyenv/versions/3.9.2/lib/python3.9/site-packages (from ydata-profiling->pandas-profiling) (1.9.2)\n",
            "Requirement already satisfied: numba<1,>=0.56.0 in /Users/juanjo/.pyenv/versions/3.9.2/lib/python3.9/site-packages (from ydata-profiling->pandas-profiling) (0.60.0)\n",
            "Requirement already satisfied: PyWavelets in /Users/juanjo/.pyenv/versions/3.9.2/lib/python3.9/site-packages (from imagehash==4.3.1->ydata-profiling->pandas-profiling) (1.6.0)\n",
            "Requirement already satisfied: pillow in /Users/juanjo/.pyenv/versions/3.9.2/lib/python3.9/site-packages (from imagehash==4.3.1->ydata-profiling->pandas-profiling) (11.1.0)\n",
            "Requirement already satisfied: MarkupSafe>=2.0 in /Users/juanjo/.pyenv/versions/3.9.2/lib/python3.9/site-packages (from jinja2<3.2,>=2.11.1->ydata-profiling->pandas-profiling) (3.0.2)\n",
            "Requirement already satisfied: contourpy>=1.0.1 in /Users/juanjo/.pyenv/versions/3.9.2/lib/python3.9/site-packages (from matplotlib<=3.10,>=3.5->ydata-profiling->pandas-profiling) (1.3.0)\n",
            "Requirement already satisfied: cycler>=0.10 in /Users/juanjo/.pyenv/versions/3.9.2/lib/python3.9/site-packages (from matplotlib<=3.10,>=3.5->ydata-profiling->pandas-profiling) (0.12.1)\n",
            "Requirement already satisfied: fonttools>=4.22.0 in /Users/juanjo/.pyenv/versions/3.9.2/lib/python3.9/site-packages (from matplotlib<=3.10,>=3.5->ydata-profiling->pandas-profiling) (4.55.8)\n",
            "Requirement already satisfied: kiwisolver>=1.3.1 in /Users/juanjo/.pyenv/versions/3.9.2/lib/python3.9/site-packages (from matplotlib<=3.10,>=3.5->ydata-profiling->pandas-profiling) (1.4.7)\n",
            "Requirement already satisfied: packaging>=20.0 in /Users/juanjo/.pyenv/versions/3.9.2/lib/python3.9/site-packages (from matplotlib<=3.10,>=3.5->ydata-profiling->pandas-profiling) (24.2)\n",
            "Requirement already satisfied: pyparsing>=2.3.1 in /Users/juanjo/.pyenv/versions/3.9.2/lib/python3.9/site-packages (from matplotlib<=3.10,>=3.5->ydata-profiling->pandas-profiling) (3.2.1)\n",
            "Requirement already satisfied: python-dateutil>=2.7 in /Users/juanjo/.pyenv/versions/3.9.2/lib/python3.9/site-packages (from matplotlib<=3.10,>=3.5->ydata-profiling->pandas-profiling) (2.9.0.post0)\n",
            "Requirement already satisfied: importlib-resources>=3.2.0 in /Users/juanjo/.pyenv/versions/3.9.2/lib/python3.9/site-packages (from matplotlib<=3.10,>=3.5->ydata-profiling->pandas-profiling) (6.5.2)\n",
            "Requirement already satisfied: llvmlite<0.44,>=0.43.0dev0 in /Users/juanjo/.pyenv/versions/3.9.2/lib/python3.9/site-packages (from numba<1,>=0.56.0->ydata-profiling->pandas-profiling) (0.43.0)\n",
            "Requirement already satisfied: pytz>=2020.1 in /Users/juanjo/.pyenv/versions/3.9.2/lib/python3.9/site-packages (from pandas!=1.4.0,<3.0,>1.1->ydata-profiling->pandas-profiling) (2025.1)\n",
            "Requirement already satisfied: tzdata>=2022.7 in /Users/juanjo/.pyenv/versions/3.9.2/lib/python3.9/site-packages (from pandas!=1.4.0,<3.0,>1.1->ydata-profiling->pandas-profiling) (2025.1)\n",
            "Requirement already satisfied: joblib>=0.14.1 in /Users/juanjo/.pyenv/versions/3.9.2/lib/python3.9/site-packages (from phik<0.13,>=0.11.1->ydata-profiling->pandas-profiling) (1.4.2)\n",
            "Requirement already satisfied: annotated-types>=0.6.0 in /Users/juanjo/.pyenv/versions/3.9.2/lib/python3.9/site-packages (from pydantic>=2->ydata-profiling->pandas-profiling) (0.7.0)\n",
            "Requirement already satisfied: pydantic-core==2.27.2 in /Users/juanjo/.pyenv/versions/3.9.2/lib/python3.9/site-packages (from pydantic>=2->ydata-profiling->pandas-profiling) (2.27.2)\n",
            "Requirement already satisfied: typing-extensions>=4.12.2 in /Users/juanjo/.pyenv/versions/3.9.2/lib/python3.9/site-packages (from pydantic>=2->ydata-profiling->pandas-profiling) (4.12.2)\n",
            "Requirement already satisfied: charset-normalizer<4,>=2 in /Users/juanjo/.pyenv/versions/3.9.2/lib/python3.9/site-packages (from requests<3,>=2.24.0->ydata-profiling->pandas-profiling) (3.4.1)\n",
            "Requirement already satisfied: idna<4,>=2.5 in /Users/juanjo/.pyenv/versions/3.9.2/lib/python3.9/site-packages (from requests<3,>=2.24.0->ydata-profiling->pandas-profiling) (3.10)\n",
            "Requirement already satisfied: urllib3<3,>=1.21.1 in /Users/juanjo/.pyenv/versions/3.9.2/lib/python3.9/site-packages (from requests<3,>=2.24.0->ydata-profiling->pandas-profiling) (2.3.0)\n",
            "Requirement already satisfied: certifi>=2017.4.17 in /Users/juanjo/.pyenv/versions/3.9.2/lib/python3.9/site-packages (from requests<3,>=2.24.0->ydata-profiling->pandas-profiling) (2025.1.31)\n",
            "Requirement already satisfied: patsy>=0.5.6 in /Users/juanjo/.pyenv/versions/3.9.2/lib/python3.9/site-packages (from statsmodels<1,>=0.13.2->ydata-profiling->pandas-profiling) (1.0.1)\n",
            "Requirement already satisfied: importlib_metadata>=3.6 in /Users/juanjo/.pyenv/versions/3.9.2/lib/python3.9/site-packages (from typeguard<5,>=3->ydata-profiling->pandas-profiling) (8.6.1)\n",
            "Requirement already satisfied: attrs>=19.3.0 in /Users/juanjo/.pyenv/versions/3.9.2/lib/python3.9/site-packages (from visions<0.7.7,>=0.7.5->visions[type_image_path]<0.7.7,>=0.7.5->ydata-profiling->pandas-profiling) (25.1.0)\n",
            "Requirement already satisfied: networkx>=2.4 in /Users/juanjo/.pyenv/versions/3.9.2/lib/python3.9/site-packages (from visions<0.7.7,>=0.7.5->visions[type_image_path]<0.7.7,>=0.7.5->ydata-profiling->pandas-profiling) (3.2.1)\n",
            "Requirement already satisfied: zipp>=3.20 in /Users/juanjo/.pyenv/versions/3.9.2/lib/python3.9/site-packages (from importlib_metadata>=3.6->typeguard<5,>=3->ydata-profiling->pandas-profiling) (3.21.0)\n",
            "Requirement already satisfied: six>=1.5 in /Users/juanjo/.pyenv/versions/3.9.2/lib/python3.9/site-packages (from python-dateutil>=2.7->matplotlib<=3.10,>=3.5->ydata-profiling->pandas-profiling) (1.17.0)\n"
          ]
        }
      ],
      "source": [
        "import pandas as pd\n",
        "import numpy as np\n",
        "import matplotlib.pyplot as plt\n",
        "import seaborn as sns; sns.set()\n",
        "from sklearn.preprocessing import StandardScaler\n",
        "from sklearn.cluster import KMeans\n",
        "from sklearn.metrics import silhouette_samples, silhouette_score\n",
        "from sklearn.preprocessing import MinMaxScaler\n",
        "from matplotlib import cm\n",
        "from mpl_toolkits.mplot3d import Axes3D\n",
        "import nltk\n",
        "nltk.download('punkt')\n",
        "nltk.download('stopwords')\n",
        "nltk.download('wordnet')\n",
        "nltk.download('punkt_tab')\n",
        "\n",
        "import sys\n",
        "!{sys.executable} -m pip install pandas-profiling\n",
        "\n",
        "import re, string, unicodedata\n",
        "import contractions\n",
        "import inflect\n",
        "from nltk import word_tokenize, sent_tokenize\n",
        "from nltk.corpus import stopwords\n",
        "from nltk.stem import LancasterStemmer, WordNetLemmatizer\n",
        "\n",
        "from sklearn.model_selection import train_test_split,GridSearchCV\n",
        "from sklearn.feature_extraction.text import TfidfVectorizer, CountVectorizer, HashingVectorizer\n",
        "from sklearn.pipeline import Pipeline, FeatureUnion\n",
        "from sklearn.svm import SVC\n",
        "from sklearn.ensemble import BaggingClassifier, RandomForestClassifier, AdaBoostClassifier\n",
        "from sklearn.naive_bayes import BernoulliNB\n",
        "from sklearn.metrics import classification_report, confusion_matrix\n",
        "from sklearn.base import BaseEstimator, ClassifierMixin\n",
        "from nltk.stem import SnowballStemmer\n",
        "from sklearn.compose import ColumnTransformer\n",
        "from sklearn.preprocessing import StandardScaler\n",
        "from sklearn.feature_extraction.text import TfidfVectorizer\n",
        "from sklearn.cluster import AgglomerativeClustering\n",
        "import spacy"
      ]
    },
    {
      "cell_type": "markdown",
      "metadata": {
        "id": "sRYxqKKY6NzE"
      },
      "source": [
        "## 1.2 Cargar los datos"
      ]
    },
    {
      "cell_type": "code",
      "execution_count": 974,
      "metadata": {
        "id": "GJ1GWMqM6RTy"
      },
      "outputs": [],
      "source": [
        "# Se cargan los datos.\n",
        "df_eps=pd.read_csv('202420_Laboratorio 2 - Agrupación_202420_Laboratorio_2_-_Agrupación_data.csv', sep=',', encoding = 'utf-8', index_col=0)"
      ]
    },
    {
      "cell_type": "markdown",
      "metadata": {
        "id": "edcVP8OV6dGx"
      },
      "source": [
        "## 1.3 Perfilamiento y entendimiento de los datos\n",
        "\n",
        "Al consultar df_eps.shape se obtiene (1000, 22), lo que indica que el conjunto de datos contiene 1000 registros (filas) y 22 variables (columnas)."
      ]
    },
    {
      "cell_type": "code",
      "execution_count": 975,
      "metadata": {},
      "outputs": [
        {
          "data": {
            "text/plain": [
              "(1000, 22)"
            ]
          },
          "execution_count": 975,
          "metadata": {},
          "output_type": "execute_result"
        }
      ],
      "source": [
        "df_eps.shape"
      ]
    },
    {
      "cell_type": "code",
      "execution_count": 976,
      "metadata": {},
      "outputs": [
        {
          "data": {
            "text/html": [
              "<div>\n",
              "<style scoped>\n",
              "    .dataframe tbody tr th:only-of-type {\n",
              "        vertical-align: middle;\n",
              "    }\n",
              "\n",
              "    .dataframe tbody tr th {\n",
              "        vertical-align: top;\n",
              "    }\n",
              "\n",
              "    .dataframe thead th {\n",
              "        text-align: right;\n",
              "    }\n",
              "</style>\n",
              "<table border=\"1\" class=\"dataframe\">\n",
              "  <thead>\n",
              "    <tr style=\"text-align: right;\">\n",
              "      <th></th>\n",
              "      <th>Sexo</th>\n",
              "      <th>Edad</th>\n",
              "      <th>Modo_Llegada</th>\n",
              "      <th>Lesion</th>\n",
              "      <th>Queja_Principal</th>\n",
              "      <th>Estado_Mental</th>\n",
              "      <th>Dolor</th>\n",
              "      <th>dolor_NRS</th>\n",
              "      <th>SBP</th>\n",
              "      <th>DBP</th>\n",
              "      <th>...</th>\n",
              "      <th>BT</th>\n",
              "      <th>Saturacion</th>\n",
              "      <th>KTAS_enfermera</th>\n",
              "      <th>Diagnostico_En_Urgencias</th>\n",
              "      <th>Disposicion</th>\n",
              "      <th>KTAS_experto</th>\n",
              "      <th>Grupo_De_Error</th>\n",
              "      <th>Duracion_Estancia_Min</th>\n",
              "      <th>Duracion_KTAS_Min</th>\n",
              "      <th>Error_Triaje</th>\n",
              "    </tr>\n",
              "    <tr>\n",
              "      <th>Grupo</th>\n",
              "      <th></th>\n",
              "      <th></th>\n",
              "      <th></th>\n",
              "      <th></th>\n",
              "      <th></th>\n",
              "      <th></th>\n",
              "      <th></th>\n",
              "      <th></th>\n",
              "      <th></th>\n",
              "      <th></th>\n",
              "      <th></th>\n",
              "      <th></th>\n",
              "      <th></th>\n",
              "      <th></th>\n",
              "      <th></th>\n",
              "      <th></th>\n",
              "      <th></th>\n",
              "      <th></th>\n",
              "      <th></th>\n",
              "      <th></th>\n",
              "      <th></th>\n",
              "    </tr>\n",
              "  </thead>\n",
              "  <tbody>\n",
              "    <tr>\n",
              "      <th>2</th>\n",
              "      <td>2</td>\n",
              "      <td>49</td>\n",
              "      <td>2</td>\n",
              "      <td>1</td>\n",
              "      <td>ant. chest pain</td>\n",
              "      <td>1</td>\n",
              "      <td>1</td>\n",
              "      <td>2</td>\n",
              "      <td>150.0</td>\n",
              "      <td>90.0</td>\n",
              "      <td>...</td>\n",
              "      <td>36.2</td>\n",
              "      <td>98.0</td>\n",
              "      <td>2</td>\n",
              "      <td>Ischaemic chest pain</td>\n",
              "      <td>2</td>\n",
              "      <td>2</td>\n",
              "      <td>0</td>\n",
              "      <td>1591</td>\n",
              "      <td>2,00</td>\n",
              "      <td>0</td>\n",
              "    </tr>\n",
              "    <tr>\n",
              "      <th>2</th>\n",
              "      <td>2</td>\n",
              "      <td>30</td>\n",
              "      <td>4</td>\n",
              "      <td>1</td>\n",
              "      <td>headache</td>\n",
              "      <td>1</td>\n",
              "      <td>1</td>\n",
              "      <td>4</td>\n",
              "      <td>140.0</td>\n",
              "      <td>80.0</td>\n",
              "      <td>...</td>\n",
              "      <td>36.3</td>\n",
              "      <td>99.0</td>\n",
              "      <td>3</td>\n",
              "      <td>Subarachnoid haemorrhage, unspecified</td>\n",
              "      <td>7</td>\n",
              "      <td>3</td>\n",
              "      <td>0</td>\n",
              "      <td>211</td>\n",
              "      <td>3,00</td>\n",
              "      <td>0</td>\n",
              "    </tr>\n",
              "    <tr>\n",
              "      <th>2</th>\n",
              "      <td>1</td>\n",
              "      <td>61</td>\n",
              "      <td>3</td>\n",
              "      <td>2</td>\n",
              "      <td>ant. chest pain</td>\n",
              "      <td>1</td>\n",
              "      <td>1</td>\n",
              "      <td>3</td>\n",
              "      <td>100.0</td>\n",
              "      <td>60.0</td>\n",
              "      <td>...</td>\n",
              "      <td>36.4</td>\n",
              "      <td>98.0</td>\n",
              "      <td>4</td>\n",
              "      <td>Contusion of front wall of thorax</td>\n",
              "      <td>1</td>\n",
              "      <td>4</td>\n",
              "      <td>0</td>\n",
              "      <td>119</td>\n",
              "      <td>2,00</td>\n",
              "      <td>0</td>\n",
              "    </tr>\n",
              "    <tr>\n",
              "      <th>2</th>\n",
              "      <td>2</td>\n",
              "      <td>61</td>\n",
              "      <td>3</td>\n",
              "      <td>1</td>\n",
              "      <td>headache</td>\n",
              "      <td>1</td>\n",
              "      <td>1</td>\n",
              "      <td>4</td>\n",
              "      <td>120.0</td>\n",
              "      <td>70.0</td>\n",
              "      <td>...</td>\n",
              "      <td>36.5</td>\n",
              "      <td>99.0</td>\n",
              "      <td>4</td>\n",
              "      <td>Headache</td>\n",
              "      <td>1</td>\n",
              "      <td>3</td>\n",
              "      <td>4</td>\n",
              "      <td>414</td>\n",
              "      <td>2,00</td>\n",
              "      <td>2</td>\n",
              "    </tr>\n",
              "    <tr>\n",
              "      <th>1</th>\n",
              "      <td>2</td>\n",
              "      <td>67</td>\n",
              "      <td>3</td>\n",
              "      <td>1</td>\n",
              "      <td>fever &amp; chill</td>\n",
              "      <td>1</td>\n",
              "      <td>0</td>\n",
              "      <td>#BOÞ!</td>\n",
              "      <td>143.0</td>\n",
              "      <td>70.0</td>\n",
              "      <td>...</td>\n",
              "      <td>38.1</td>\n",
              "      <td>NaN</td>\n",
              "      <td>4</td>\n",
              "      <td>Fever</td>\n",
              "      <td>1</td>\n",
              "      <td>2</td>\n",
              "      <td>1</td>\n",
              "      <td>267</td>\n",
              "      <td>3,60</td>\n",
              "      <td>2</td>\n",
              "    </tr>\n",
              "  </tbody>\n",
              "</table>\n",
              "<p>5 rows × 22 columns</p>\n",
              "</div>"
            ],
            "text/plain": [
              "       Sexo  Edad  Modo_Llegada  Lesion  Queja_Principal  Estado_Mental  \\\n",
              "Grupo                                                                     \n",
              "2         2    49             2       1  ant. chest pain              1   \n",
              "2         2    30             4       1         headache              1   \n",
              "2         1    61             3       2  ant. chest pain              1   \n",
              "2         2    61             3       1         headache              1   \n",
              "1         2    67             3       1    fever & chill              1   \n",
              "\n",
              "       Dolor dolor_NRS    SBP   DBP  ...    BT  Saturacion  KTAS_enfermera  \\\n",
              "Grupo                                ...                                     \n",
              "2          1         2  150.0  90.0  ...  36.2        98.0               2   \n",
              "2          1         4  140.0  80.0  ...  36.3        99.0               3   \n",
              "2          1         3  100.0  60.0  ...  36.4        98.0               4   \n",
              "2          1         4  120.0  70.0  ...  36.5        99.0               4   \n",
              "1          0     #BOÞ!  143.0  70.0  ...  38.1         NaN               4   \n",
              "\n",
              "                    Diagnostico_En_Urgencias  Disposicion KTAS_experto  \\\n",
              "Grupo                                                                    \n",
              "2                       Ischaemic chest pain            2            2   \n",
              "2      Subarachnoid haemorrhage, unspecified            7            3   \n",
              "2          Contusion of front wall of thorax            1            4   \n",
              "2                                   Headache            1            3   \n",
              "1                                      Fever            1            2   \n",
              "\n",
              "       Grupo_De_Error  Duracion_Estancia_Min  Duracion_KTAS_Min  Error_Triaje  \n",
              "Grupo                                                                          \n",
              "2                   0                   1591               2,00             0  \n",
              "2                   0                    211               3,00             0  \n",
              "2                   0                    119               2,00             0  \n",
              "2                   4                    414               2,00             2  \n",
              "1                   1                    267               3,60             2  \n",
              "\n",
              "[5 rows x 22 columns]"
            ]
          },
          "execution_count": 976,
          "metadata": {},
          "output_type": "execute_result"
        }
      ],
      "source": [
        "df_eps.head()"
      ]
    },
    {
      "cell_type": "markdown",
      "metadata": {},
      "source": [
        "### Estructura del DataFrame\n",
        "- **Dimensiones:**  \n",
        "  - 22 columnas  \n",
        "  - 1000 filas \n",
        "\n",
        "\n",
        "- **Diccionario de datos**\n",
        "A continuación se presenta el diccionario de datos para MediAlpes:\n",
        "\n",
        "| **Variable**           | **Definición**                                                                                                                                                                                                                                     |\n",
        "|------------------------|----------------------------------------------------------------------------------------------------------------------------------------------------------------------------------------------------------------------------------------------------|\n",
        "| **Grupo** | Grupo del paciente según el tipo de departamento de emergencia.<br/>**Categorías:**<br/>- `1` = ED Local (3er Grado)<br/>- `2` = ED Regional (4to Grado) |\n",
        "| **Sexo**              | Sexo del paciente.<br/>**Categorías:**<br/>- `1` = Femenino<br/>- `2` = Masculino                                                                                                                                                                  |\n",
        "| **Edad**              | Edad del paciente (en años).                                                                                                                                                                                                                       |\n",
        "| **Modo_Llegada**      | Tipo de método de transporte en el que el paciente llegó al hospital.<br/>**Categorías:**<br/>- `1` = Caminando<br/>- `2` = Ambulancia Pública<br/>- `3` = Vehículo Privado<br/>- `4` = Ambulancia Privada<br/>- `5` = Otro                          |\n",
        "| **Lesion**            | Indica si el paciente presenta alguna lesión.<br/>**Categorías:**<br/>- `1` = Sí<br/>- `2` = No                                                                                                                                                    |\n",
        "| **Queja_Principal**    | Queja principal del paciente al momento del ingreso.                                                                                                                                                                                               |\n",
        "| **Estado_Mental**      | Estado mental del paciente.<br/>**Categorías:**<br/>- `1` = Alerta<br/>- `2` = Respuesta Verbal<br/>- `3` = Respuesta al Dolor<br/>- `4` = No Responde                                                                                             |\n",
        "| **Dolor**             | Indica si el paciente presenta dolor (variable categórica).<br/>**Categorías:**<br/>- `0` = No dolor<br/>- `1` = Dolor                                                                                                                 |\n",
        "| **Dolor_NRS**         | Nivel de dolor registrado por la enfermera en una escala del 1 al 10,<br/>donde `1` es el más leve y `10` el más alto.                                                                                                                             |\n",
        "| **SBP**               | Presión Arterial Sistólica (mmHg).                                                                                                                                                                                                                 |\n",
        "| **DBP**               | Presión Arterial Diastólica (mmHg).                                                                                                                                                                                                                |\n",
        "| **HR**                | Frecuencia Cardíaca (latidos por minuto).                                                                                                                                                                                                          |\n",
        "| **RR**                | Frecuencia Respiratoria (respiraciones por minuto).                                                                                                                                                                                                 |\n",
        "| **BT**                | Temperatura Corporal (grados Celsius).                                                                                                                                                                                                             |\n",
        "| **Saturacion**        | Saturación de Oxígeno (%).                                                                                                                                                                                                                         |\n",
        "| **KTAS_Enfermera**     | Clasificación de triage (KTAS) registrada por la enfermera.<br/>**Categorías:**<br/>- `1` = Emergencia Resucitativa<br/>- `2` = Emergencia Crítica<br/>- `3` = Emergencia Urgente<br/>- `4` = Emergencia Menor<br/>- `5` = Consulta Médica no Urgente |\n",
        "| **Diagnostico_En_Urgencias** | Diagnóstico dado al paciente en el área de urgencias.                                                                                                                                                                                          |\n",
        "| **Disposicion**       | Disposición final del paciente tras la atención en urgencias.<br/>**Categorías:**<br/>- `1` = Alta a Domicilio<br/>- `2` = Admisión a Sala<br/>- `3` = Admisión a UCI<br/>- `4` = Alta a otra Institución de Cuidados<br/>- `5` = Transferencia a otro Hospital<br/>- `6` = Muerte<br/>- `7` = Cirugía |\n",
        "| **KTAS_Experto**       | Clasificación de triage (KTAS) registrada por el experto.<br/>**Categorías:**<br/>- `1` = Emergencia Resucitativa<br/>- `2` = Emergencia Crítica<br/>- `3` = Emergencia Urgente<br/>- `4` = Emergencia Menor<br/>- `5` = Consulta Médica no Urgente |\n",
        "| **Grupo_Error**       | Error de Grupo. **No se cuenta con información adicional**.                                                                                                                                                                                        |\n",
        "| **Duracion_Estancia_Min** | Tiempo aproximado de **hospitalización** del paciente (en minutos).                                                                                                                                                                             |\n",
        "| **Duracion_KTAS_Min**  | Duración de la evaluación KTAS (en minutos).                                                                                                                                                                                                       |\n",
        "| **Error_Triaje**      | Clasificación incorrecta de la severidad de la condición del paciente. **No se cuenta con información adicional**.                                                                                                                                 |\n",
        "\n",
        "\n",
        "\n",
        "- **Aclaraciones Importantes**\n",
        "\n",
        "1. **`Dolor_NRS`**  \n",
        "   Se considera una escala numérica de 1 a 10 para registrar la intensidad del dolor, donde 1 es el más leve y 10 el más alto.\n",
        "\n",
        "2. **Categorías del Dolor**  \n",
        "   Para la variable **`Dolor`** (categórica), se actualiza a:  \n",
        "   - `0` = No dolor  \n",
        "   - `1` = Dolor  \n",
        "\n",
        "3. **`Grupo`**  \n",
        "   Las categorías se relacionan con el tipo de departamento de emergencia:  \n",
        "   - `1` = ED Local (3er Grado)  \n",
        "   - `2` = ED Regional (4to Grado)\n",
        "\n",
        "4. **`Error_Triaje`** y **`Grupo_Error`**  \n",
        "   No se cuenta con información adicional proveniente de la fuente de conocimiento.\n",
        "\n",
        "5. **`Duración_Estancia_Min`**  \n",
        "   Corresponde al tiempo aproximado de **hospitalización** del paciente en minutos.\n"
      ]
    },
    {
      "cell_type": "code",
      "execution_count": 977,
      "metadata": {},
      "outputs": [
        {
          "name": "stdout",
          "output_type": "stream",
          "text": [
            "<class 'pandas.core.frame.DataFrame'>\n",
            "Index: 1000 entries, 2 to 1\n",
            "Data columns (total 22 columns):\n",
            " #   Column                    Non-Null Count  Dtype  \n",
            "---  ------                    --------------  -----  \n",
            " 0   Sexo                      1000 non-null   int64  \n",
            " 1   Edad                      1000 non-null   int64  \n",
            " 2   Modo_Llegada              1000 non-null   int64  \n",
            " 3   Lesion                    1000 non-null   int64  \n",
            " 4   Queja_Principal           1000 non-null   object \n",
            " 5   Estado_Mental             1000 non-null   int64  \n",
            " 6   Dolor                     1000 non-null   int64  \n",
            " 7   dolor_NRS                 1000 non-null   object \n",
            " 8   SBP                       983 non-null    float64\n",
            " 9   DBP                       979 non-null    float64\n",
            " 10  HR                        988 non-null    float64\n",
            " 11  RR                        985 non-null    float64\n",
            " 12  BT                        989 non-null    float64\n",
            " 13  Saturacion                444 non-null    float64\n",
            " 14  KTAS_enfermera            1000 non-null   int64  \n",
            " 15  Diagnostico_En_Urgencias  999 non-null    object \n",
            " 16  Disposicion               1000 non-null   int64  \n",
            " 17  KTAS_experto              1000 non-null   int64  \n",
            " 18  Grupo_De_Error            1000 non-null   int64  \n",
            " 19  Duracion_Estancia_Min     1000 non-null   int64  \n",
            " 20  Duracion_KTAS_Min         1000 non-null   object \n",
            " 21  Error_Triaje              1000 non-null   int64  \n",
            "dtypes: float64(6), int64(12), object(4)\n",
            "memory usage: 179.7+ KB\n"
          ]
        }
      ],
      "source": [
        "# Revisar las características de los datos: completitud y tipo de dato\n",
        "df_eps.info()"
      ]
    },
    {
      "cell_type": "markdown",
      "metadata": {},
      "source": [
        "### Observaciones Generales\n",
        "\n",
        "- **Valores Nulos:**  \n",
        "  Algunas columnas presentan valores nulos. Destacan:\n",
        "  - `SBP`: 983/1000 valores no nulos.\n",
        "  - `DBP`: 979/1000 valores no nulos.\n",
        "  - `HR`: 988/1000 valores no nulos.\n",
        "  - `RR`: 985/1000 valores no nulos.\n",
        "  - `BT`: 989/1000 valores no nulos.\n",
        "  - `Saturacion`: 444/1000 valores no nulos.\n",
        "  - `Diagnostico_En_Urgencias`: 999/1000 valores no nulos.\n",
        "\n",
        "- **Tipos de Datos:**  \n",
        "  La mayoría de las columnas son numéricas (`int64` o `float64`). Sin embargo, algunas columnas relevantes como `Queja_Principal`, `Diagnostico_En_Urgencias`, `dolor_NRS` y `Duracion_KTAS_Min` son de tipo `object`, lo cual se puede deber a que son strings, por lo tanto se espera hacerle transformación a dichos datos a su tipo correspondiente para tener consistencia en cada columna respecto a los datos que se manejan.\n"
      ]
    },
    {
      "cell_type": "code",
      "execution_count": 978,
      "metadata": {},
      "outputs": [
        {
          "data": {
            "text/html": [
              "<div>\n",
              "<style scoped>\n",
              "    .dataframe tbody tr th:only-of-type {\n",
              "        vertical-align: middle;\n",
              "    }\n",
              "\n",
              "    .dataframe tbody tr th {\n",
              "        vertical-align: top;\n",
              "    }\n",
              "\n",
              "    .dataframe thead th {\n",
              "        text-align: right;\n",
              "    }\n",
              "</style>\n",
              "<table border=\"1\" class=\"dataframe\">\n",
              "  <thead>\n",
              "    <tr style=\"text-align: right;\">\n",
              "      <th></th>\n",
              "      <th>Sexo</th>\n",
              "      <th>Edad</th>\n",
              "      <th>Modo_Llegada</th>\n",
              "      <th>Lesion</th>\n",
              "      <th>Estado_Mental</th>\n",
              "      <th>Dolor</th>\n",
              "      <th>SBP</th>\n",
              "      <th>DBP</th>\n",
              "      <th>HR</th>\n",
              "      <th>RR</th>\n",
              "      <th>BT</th>\n",
              "      <th>Saturacion</th>\n",
              "      <th>KTAS_enfermera</th>\n",
              "      <th>Disposicion</th>\n",
              "      <th>KTAS_experto</th>\n",
              "      <th>Grupo_De_Error</th>\n",
              "      <th>Duracion_Estancia_Min</th>\n",
              "      <th>Error_Triaje</th>\n",
              "    </tr>\n",
              "  </thead>\n",
              "  <tbody>\n",
              "    <tr>\n",
              "      <th>count</th>\n",
              "      <td>1000.000000</td>\n",
              "      <td>1000.000000</td>\n",
              "      <td>1000.000000</td>\n",
              "      <td>1000.0000</td>\n",
              "      <td>1000.000000</td>\n",
              "      <td>1000.000000</td>\n",
              "      <td>983.000000</td>\n",
              "      <td>979.000000</td>\n",
              "      <td>988.000000</td>\n",
              "      <td>985.000000</td>\n",
              "      <td>989.000000</td>\n",
              "      <td>444.000000</td>\n",
              "      <td>1000.000000</td>\n",
              "      <td>1000.000000</td>\n",
              "      <td>1000.000000</td>\n",
              "      <td>1000.000000</td>\n",
              "      <td>1000.000000</td>\n",
              "      <td>1000.000000</td>\n",
              "    </tr>\n",
              "    <tr>\n",
              "      <th>mean</th>\n",
              "      <td>1.514000</td>\n",
              "      <td>53.892000</td>\n",
              "      <td>2.811000</td>\n",
              "      <td>1.2000</td>\n",
              "      <td>1.103000</td>\n",
              "      <td>0.562000</td>\n",
              "      <td>133.485249</td>\n",
              "      <td>79.566905</td>\n",
              "      <td>84.400810</td>\n",
              "      <td>19.450761</td>\n",
              "      <td>36.562993</td>\n",
              "      <td>97.047297</td>\n",
              "      <td>3.328000</td>\n",
              "      <td>1.610000</td>\n",
              "      <td>3.260000</td>\n",
              "      <td>0.569000</td>\n",
              "      <td>12792.480000</td>\n",
              "      <td>0.253000</td>\n",
              "    </tr>\n",
              "    <tr>\n",
              "      <th>std</th>\n",
              "      <td>0.500054</td>\n",
              "      <td>19.826483</td>\n",
              "      <td>0.796186</td>\n",
              "      <td>0.4002</td>\n",
              "      <td>0.431946</td>\n",
              "      <td>0.496389</td>\n",
              "      <td>27.156136</td>\n",
              "      <td>15.174593</td>\n",
              "      <td>16.297428</td>\n",
              "      <td>2.069882</td>\n",
              "      <td>0.519699</td>\n",
              "      <td>4.761112</td>\n",
              "      <td>0.862067</td>\n",
              "      <td>1.161572</td>\n",
              "      <td>0.865534</td>\n",
              "      <td>1.587375</td>\n",
              "      <td>87721.151446</td>\n",
              "      <td>0.630387</td>\n",
              "    </tr>\n",
              "    <tr>\n",
              "      <th>min</th>\n",
              "      <td>1.000000</td>\n",
              "      <td>16.000000</td>\n",
              "      <td>1.000000</td>\n",
              "      <td>1.0000</td>\n",
              "      <td>1.000000</td>\n",
              "      <td>0.000000</td>\n",
              "      <td>50.000000</td>\n",
              "      <td>31.000000</td>\n",
              "      <td>32.000000</td>\n",
              "      <td>14.000000</td>\n",
              "      <td>35.000000</td>\n",
              "      <td>20.000000</td>\n",
              "      <td>1.000000</td>\n",
              "      <td>1.000000</td>\n",
              "      <td>1.000000</td>\n",
              "      <td>0.000000</td>\n",
              "      <td>0.000000</td>\n",
              "      <td>0.000000</td>\n",
              "    </tr>\n",
              "    <tr>\n",
              "      <th>25%</th>\n",
              "      <td>1.000000</td>\n",
              "      <td>36.000000</td>\n",
              "      <td>2.000000</td>\n",
              "      <td>1.0000</td>\n",
              "      <td>1.000000</td>\n",
              "      <td>0.000000</td>\n",
              "      <td>114.000000</td>\n",
              "      <td>70.000000</td>\n",
              "      <td>73.000000</td>\n",
              "      <td>18.000000</td>\n",
              "      <td>36.200000</td>\n",
              "      <td>97.000000</td>\n",
              "      <td>3.000000</td>\n",
              "      <td>1.000000</td>\n",
              "      <td>3.000000</td>\n",
              "      <td>0.000000</td>\n",
              "      <td>132.750000</td>\n",
              "      <td>0.000000</td>\n",
              "    </tr>\n",
              "    <tr>\n",
              "      <th>50%</th>\n",
              "      <td>2.000000</td>\n",
              "      <td>56.000000</td>\n",
              "      <td>3.000000</td>\n",
              "      <td>1.0000</td>\n",
              "      <td>1.000000</td>\n",
              "      <td>1.000000</td>\n",
              "      <td>130.000000</td>\n",
              "      <td>80.000000</td>\n",
              "      <td>82.000000</td>\n",
              "      <td>20.000000</td>\n",
              "      <td>36.500000</td>\n",
              "      <td>98.000000</td>\n",
              "      <td>3.000000</td>\n",
              "      <td>1.000000</td>\n",
              "      <td>3.000000</td>\n",
              "      <td>0.000000</td>\n",
              "      <td>270.500000</td>\n",
              "      <td>0.000000</td>\n",
              "    </tr>\n",
              "    <tr>\n",
              "      <th>75%</th>\n",
              "      <td>2.000000</td>\n",
              "      <td>70.250000</td>\n",
              "      <td>3.000000</td>\n",
              "      <td>1.0000</td>\n",
              "      <td>1.000000</td>\n",
              "      <td>1.000000</td>\n",
              "      <td>150.000000</td>\n",
              "      <td>90.000000</td>\n",
              "      <td>96.000000</td>\n",
              "      <td>20.000000</td>\n",
              "      <td>36.800000</td>\n",
              "      <td>99.000000</td>\n",
              "      <td>4.000000</td>\n",
              "      <td>2.000000</td>\n",
              "      <td>4.000000</td>\n",
              "      <td>0.000000</td>\n",
              "      <td>620.000000</td>\n",
              "      <td>0.000000</td>\n",
              "    </tr>\n",
              "    <tr>\n",
              "      <th>max</th>\n",
              "      <td>2.000000</td>\n",
              "      <td>94.000000</td>\n",
              "      <td>7.000000</td>\n",
              "      <td>2.0000</td>\n",
              "      <td>4.000000</td>\n",
              "      <td>1.000000</td>\n",
              "      <td>275.000000</td>\n",
              "      <td>160.000000</td>\n",
              "      <td>148.000000</td>\n",
              "      <td>30.000000</td>\n",
              "      <td>39.800000</td>\n",
              "      <td>100.000000</td>\n",
              "      <td>5.000000</td>\n",
              "      <td>7.000000</td>\n",
              "      <td>5.000000</td>\n",
              "      <td>9.000000</td>\n",
              "      <td>709510.000000</td>\n",
              "      <td>2.000000</td>\n",
              "    </tr>\n",
              "  </tbody>\n",
              "</table>\n",
              "</div>"
            ],
            "text/plain": [
              "              Sexo         Edad  Modo_Llegada     Lesion  Estado_Mental  \\\n",
              "count  1000.000000  1000.000000   1000.000000  1000.0000    1000.000000   \n",
              "mean      1.514000    53.892000      2.811000     1.2000       1.103000   \n",
              "std       0.500054    19.826483      0.796186     0.4002       0.431946   \n",
              "min       1.000000    16.000000      1.000000     1.0000       1.000000   \n",
              "25%       1.000000    36.000000      2.000000     1.0000       1.000000   \n",
              "50%       2.000000    56.000000      3.000000     1.0000       1.000000   \n",
              "75%       2.000000    70.250000      3.000000     1.0000       1.000000   \n",
              "max       2.000000    94.000000      7.000000     2.0000       4.000000   \n",
              "\n",
              "             Dolor         SBP         DBP          HR          RR  \\\n",
              "count  1000.000000  983.000000  979.000000  988.000000  985.000000   \n",
              "mean      0.562000  133.485249   79.566905   84.400810   19.450761   \n",
              "std       0.496389   27.156136   15.174593   16.297428    2.069882   \n",
              "min       0.000000   50.000000   31.000000   32.000000   14.000000   \n",
              "25%       0.000000  114.000000   70.000000   73.000000   18.000000   \n",
              "50%       1.000000  130.000000   80.000000   82.000000   20.000000   \n",
              "75%       1.000000  150.000000   90.000000   96.000000   20.000000   \n",
              "max       1.000000  275.000000  160.000000  148.000000   30.000000   \n",
              "\n",
              "               BT  Saturacion  KTAS_enfermera  Disposicion  KTAS_experto  \\\n",
              "count  989.000000  444.000000     1000.000000  1000.000000   1000.000000   \n",
              "mean    36.562993   97.047297        3.328000     1.610000      3.260000   \n",
              "std      0.519699    4.761112        0.862067     1.161572      0.865534   \n",
              "min     35.000000   20.000000        1.000000     1.000000      1.000000   \n",
              "25%     36.200000   97.000000        3.000000     1.000000      3.000000   \n",
              "50%     36.500000   98.000000        3.000000     1.000000      3.000000   \n",
              "75%     36.800000   99.000000        4.000000     2.000000      4.000000   \n",
              "max     39.800000  100.000000        5.000000     7.000000      5.000000   \n",
              "\n",
              "       Grupo_De_Error  Duracion_Estancia_Min  Error_Triaje  \n",
              "count     1000.000000            1000.000000   1000.000000  \n",
              "mean         0.569000           12792.480000      0.253000  \n",
              "std          1.587375           87721.151446      0.630387  \n",
              "min          0.000000               0.000000      0.000000  \n",
              "25%          0.000000             132.750000      0.000000  \n",
              "50%          0.000000             270.500000      0.000000  \n",
              "75%          0.000000             620.000000      0.000000  \n",
              "max          9.000000          709510.000000      2.000000  "
            ]
          },
          "execution_count": 978,
          "metadata": {},
          "output_type": "execute_result"
        }
      ],
      "source": [
        "df_eps.describe()"
      ]
    },
    {
      "cell_type": "markdown",
      "metadata": {},
      "source": [
        "\n",
        "- **Sexo**\n",
        "  - **Media:** 1.514  \n",
        "    Dado que la variable se codifica como 1 (Femenino) y 2 (Masculino), una media de 1.514 sugiere una distribución casi balanceada, con una ligera inclinación hacia el valor 2 (Masculino).\n",
        "\n",
        "- **Edad**\n",
        "  - **Media:** 53.892, **Mediana:** 56  \n",
        "    La edad de los pacientes varía entre 16 y 94 años, con una distribución centrada en la mediana de 56 años y una desviación estándar de 19.83, lo que indica una amplia variabilidad.\n",
        "\n",
        "- **Modo_Llegada**\n",
        "  - **Media:** 2.811, **Rango:** 1 a 7  \n",
        "    Aunque el diccionario de datos sugiere categorías de 1 a 5, se observa un valor máximo de 7, lo que podría indicar la existencia de errores en los datos. Los percentiles (25% = 2, 50% = 3, 75% = 3) muestran que la mayoría de los pacientes llegan mediante métodos codificados en torno a 2 o 3.\n",
        "\n",
        "- **Lesion**\n",
        "  - **Media:** 1.200  \n",
        "    Con valores entre 1 y 2, y una media cercana a 1, se deduce que la mayoría de los pacientes presentan lesión. Aproximadamente, el 80% reporta lesión.\n",
        "\n",
        "- **Estado_Mental**\n",
        "  - **Media:** 1.103  \n",
        "    Con valores entre 1 y 4 y una media muy cercana a 1, la gran mayoría de los pacientes se encuentra en estado “Alerta”.\n",
        "\n",
        "- **Dolor**\n",
        "  - **Media:** 0.562  \n",
        "    Dado que la variable se define como 0 (No dolor) y 1 (Dolor), una media de 0.562 indica que alrededor del 56% de los pacientes presentan dolor.\n",
        "\n",
        "- **SBP (Presión Sistólica)**\n",
        "  - **Media:** 133.485, **Mediana:** 130  \n",
        "    Los percentiles (Q1 = 114, Q3 = 150) sugieren una distribución razonable, aunque se observan valores extremos (mínimo 50 y máximo 275) que podrían representar outliers de medición.\n",
        "\n",
        "- **DBP (Presión Diastólica)**\n",
        "  - **Media:** 79.567, **Mediana:** 80  \n",
        "    Con valores razonables (Q1 = 70, Q3 = 90) y un rango de 31 a 160, la mayoría de los registros se encuentran dentro de rangos clínicos esperados, aunque hay algunos valores atípicos.\n",
        "\n",
        "- **HR (Frecuencia Cardíaca)**\n",
        "  - **Media:** 84.401, **Mediana:** 82  \n",
        "    La distribución (Q1 = 73, Q3 = 96) es consistente con rangos normales, pese a valores extremos (mínimo 32 y máximo 148).\n",
        "\n",
        "- **RR (Frecuencia Respiratoria)**\n",
        "  - **Media:** 19.451, **Mediana:** 20  \n",
        "    Con un rango de 14 a 30 respiraciones por minuto y una baja variabilidad (desviación estándar de 2.07), los valores se encuentran en rangos típicos.\n",
        "\n",
        "- **BT (Temperatura Corporal)**\n",
        "  - **Media:** 36.563, **Mediana:** 36.5  \n",
        "    La distribución (Q1 = 36.2, Q3 = 36.8) es consistente con la temperatura corporal normal, aunque se registró un valor máximo de 39.8°C que puede representar fiebre alta.\n",
        "\n",
        "- **Saturacion**\n",
        "  - **Media:** 97.047  \n",
        "    Esta variable presenta muchos valores nulos y un rango de 20 a 100, lo que sugiere la presencia de errores (un valor mínimo de 20 es poco realista).\n",
        "\n",
        "- **KTAS_enfermera**\n",
        "  - **Media:** 3.328  \n",
        "    Con valores entre 1 y 5 y percentiles en 3 (Q1 y mediana) y 4 (Q3), la mayoría de los pacientes se clasifican en las categorías medias (Emergencia Urgente/ Menor).\n",
        "\n",
        "- **Disposicion**\n",
        "  - **Media:** 1.610, **Mediana:** 1  \n",
        "    La mayoría de los pacientes tienen una disposición de 1 (Alta a Domicilio), aunque existen casos con valores más altos (hasta 7, que corresponden a cirugía u otras disposiciones).\n",
        "\n",
        "- **KTAS_experto**\n",
        "  - **Media:** 3.260  \n",
        "    Similar a la clasificación de la enfermera, con la mayoría de los registros en torno a 3, lo que refuerza la consistencia en la evaluación del triaje.\n",
        "\n",
        "- **Grupo_De_Error**\n",
        "  - **Media:** 0.569  \n",
        "    Con valores entre 0 y 9, esta variable indica la ocurrencia de errores en la clasificación del grupo; sin embargo, el bajo promedio sugiere que los errores son poco frecuentes.\n",
        "\n",
        "- **Duracion_Estancia_Min**\n",
        "  - **Media:** 12792.480, **Mediana:** 270.5  \n",
        "    La gran diferencia entre la media y la mediana, junto con un máximo extremadamente alto (709510 minutos), indica la presencia de outliers significativos. La mediana (alrededor de 4.5 horas) es probablemente más representativa del tiempo típico de hospitalización.\n",
        "\n",
        "- **Error_Triaje**\n",
        "  - **Media:** 0.253  \n",
        "    Con valores entre 0 y 2 y una mediana de 0, los errores en la clasificación del triaje son relativamente raros.\n",
        "\n"
      ]
    },
    {
      "cell_type": "code",
      "execution_count": 979,
      "metadata": {},
      "outputs": [
        {
          "data": {
            "image/png": "[encoded data removed]",
            "text/plain": [
              "<Figure size 2000x800 with 1 Axes>"
            ]
          },
          "metadata": {},
          "output_type": "display_data"
        },
        {
          "data": {
            "image/png": "[encoded data removed]",
            "text/plain": [
              "<Figure size 2500x800 with 1 Axes>"
            ]
          },
          "metadata": {},
          "output_type": "display_data"
        }
      ],
      "source": [
        " #Separación de la variable duración (int) de variables float para ver mejor su contenido dada la diferencia de magnitudes en el dominio\n",
        "name_cols_float = df_eps.select_dtypes(include = ['float']).columns\n",
        "name_cols_int = df_eps.select_dtypes(include = ['int64']).columns\n",
        " #Visualización de todas las variables numéricas\n",
        "fig=plt.figure(figsize=(20,8))\n",
        "ax = sns.boxplot(data=df_eps[name_cols_float], orient=\"v\")\n",
        "\n",
        "fig=plt.figure(figsize=(25,8))\n",
        "ax = sns.boxplot(data=df_eps[name_cols_int], orient=\"v\")"
      ]
    },
    {
      "cell_type": "code",
      "execution_count": 980,
      "metadata": {},
      "outputs": [
        {
          "data": {
            "text/plain": [
              "Index(['Queja_Principal', 'dolor_NRS', 'Diagnostico_En_Urgencias',\n",
              "       'Duracion_KTAS_Min'],\n",
              "      dtype='object')"
            ]
          },
          "execution_count": 980,
          "metadata": {},
          "output_type": "execute_result"
        }
      ],
      "source": [
        "# Explorar las variables que no son numéricas\n",
        "name_cols_non_number = df_eps.select_dtypes(include = ['object']).columns\n",
        "name_cols_non_number "
      ]
    },
    {
      "cell_type": "markdown",
      "metadata": {},
      "source": [
        "Se sabe que `Queja_Principal` y `Diagnostico_En_Urgencias` deben ser de tipo String, sin embargo, `Duracion_KTAS_Min` y `dolor_NRS` debe ser de tipo Float e Int al representar la duración de la evaluación KTAS en minutos y nivel de dolor de 1 a 10."
      ]
    },
    {
      "cell_type": "code",
      "execution_count": 981,
      "metadata": {},
      "outputs": [
        {
          "data": {
            "text/plain": [
              "Grupo\n",
              "2    5,00\n",
              "1    6,08\n",
              "2    3,00\n",
              "2    4,00\n",
              "2    3,00\n",
              "2    2,00\n",
              "1    4,27\n",
              "1    8,13\n",
              "1    6,48\n",
              "2    2,00\n",
              "Name: Duracion_KTAS_Min, dtype: object"
            ]
          },
          "execution_count": 981,
          "metadata": {},
          "output_type": "execute_result"
        }
      ],
      "source": [
        "df_eps.Duracion_KTAS_Min.sample(10)\n"
      ]
    },
    {
      "cell_type": "code",
      "execution_count": 982,
      "metadata": {},
      "outputs": [
        {
          "data": {
            "text/plain": [
              "Grupo\n",
              "1        4\n",
              "2        3\n",
              "2        3\n",
              "2        3\n",
              "1    #BOÞ!\n",
              "1    #BOÞ!\n",
              "2        4\n",
              "2        3\n",
              "1        5\n",
              "1    #BOÞ!\n",
              "Name: dolor_NRS, dtype: object"
            ]
          },
          "execution_count": 982,
          "metadata": {},
          "output_type": "execute_result"
        }
      ],
      "source": [
        "df_eps.dolor_NRS.sample(10)"
      ]
    },
    {
      "cell_type": "code",
      "execution_count": 983,
      "metadata": {},
      "outputs": [
        {
          "data": {
            "text/html": [
              "<div>\n",
              "<style scoped>\n",
              "    .dataframe tbody tr th:only-of-type {\n",
              "        vertical-align: middle;\n",
              "    }\n",
              "\n",
              "    .dataframe tbody tr th {\n",
              "        vertical-align: top;\n",
              "    }\n",
              "\n",
              "    .dataframe thead th {\n",
              "        text-align: right;\n",
              "    }\n",
              "</style>\n",
              "<table border=\"1\" class=\"dataframe\">\n",
              "  <thead>\n",
              "    <tr style=\"text-align: right;\">\n",
              "      <th></th>\n",
              "      <th>Queja_Principal</th>\n",
              "      <th>dolor_NRS</th>\n",
              "      <th>Diagnostico_En_Urgencias</th>\n",
              "      <th>Duracion_KTAS_Min</th>\n",
              "    </tr>\n",
              "  </thead>\n",
              "  <tbody>\n",
              "    <tr>\n",
              "      <th>count</th>\n",
              "      <td>1000</td>\n",
              "      <td>1000</td>\n",
              "      <td>999</td>\n",
              "      <td>1000</td>\n",
              "    </tr>\n",
              "    <tr>\n",
              "      <th>unique</th>\n",
              "      <td>347</td>\n",
              "      <td>11</td>\n",
              "      <td>489</td>\n",
              "      <td>335</td>\n",
              "    </tr>\n",
              "    <tr>\n",
              "      <th>top</th>\n",
              "      <td>abd pain</td>\n",
              "      <td>#BOÞ!</td>\n",
              "      <td>Acute gastroenteritis</td>\n",
              "      <td>2,00</td>\n",
              "    </tr>\n",
              "    <tr>\n",
              "      <th>freq</th>\n",
              "      <td>62</td>\n",
              "      <td>440</td>\n",
              "      <td>39</td>\n",
              "      <td>133</td>\n",
              "    </tr>\n",
              "  </tbody>\n",
              "</table>\n",
              "</div>"
            ],
            "text/plain": [
              "       Queja_Principal dolor_NRS Diagnostico_En_Urgencias Duracion_KTAS_Min\n",
              "count             1000      1000                      999              1000\n",
              "unique             347        11                      489               335\n",
              "top           abd pain     #BOÞ!    Acute gastroenteritis              2,00\n",
              "freq                62       440                       39               133"
            ]
          },
          "execution_count": 983,
          "metadata": {},
          "output_type": "execute_result"
        }
      ],
      "source": [
        " #Revisar el contenido de las variables que no son numéricas\n",
        "df_eps[name_cols_non_number].describe()"
      ]
    },
    {
      "cell_type": "code",
      "execution_count": 984,
      "metadata": {},
      "outputs": [
        {
          "data": {
            "text/html": [
              "<div>\n",
              "<style scoped>\n",
              "    .dataframe tbody tr th:only-of-type {\n",
              "        vertical-align: middle;\n",
              "    }\n",
              "\n",
              "    .dataframe tbody tr th {\n",
              "        vertical-align: top;\n",
              "    }\n",
              "\n",
              "    .dataframe thead th {\n",
              "        text-align: right;\n",
              "    }\n",
              "</style>\n",
              "<table border=\"1\" class=\"dataframe\">\n",
              "  <thead>\n",
              "    <tr style=\"text-align: right;\">\n",
              "      <th></th>\n",
              "      <th>Queja_Principal</th>\n",
              "      <th>dolor_NRS</th>\n",
              "      <th>Diagnostico_En_Urgencias</th>\n",
              "      <th>Duracion_KTAS_Min</th>\n",
              "    </tr>\n",
              "    <tr>\n",
              "      <th>Grupo</th>\n",
              "      <th></th>\n",
              "      <th></th>\n",
              "      <th></th>\n",
              "      <th></th>\n",
              "    </tr>\n",
              "  </thead>\n",
              "  <tbody>\n",
              "    <tr>\n",
              "      <th>1</th>\n",
              "      <td>syncope</td>\n",
              "      <td>#BOÞ!</td>\n",
              "      <td>Syncope</td>\n",
              "      <td>4,27</td>\n",
              "    </tr>\n",
              "    <tr>\n",
              "      <th>1</th>\n",
              "      <td>voiding difficulty</td>\n",
              "      <td>#BOÞ!</td>\n",
              "      <td>Benign prostatic hyperplasia with obstruction</td>\n",
              "      <td>8,12</td>\n",
              "    </tr>\n",
              "    <tr>\n",
              "      <th>1</th>\n",
              "      <td>dizziness</td>\n",
              "      <td>#BOÞ!</td>\n",
              "      <td>Gallbladder cancer</td>\n",
              "      <td>5,38</td>\n",
              "    </tr>\n",
              "    <tr>\n",
              "      <th>1</th>\n",
              "      <td>fever</td>\n",
              "      <td>#BOÞ!</td>\n",
              "      <td>Acute pyelonephritis</td>\n",
              "      <td>9,67</td>\n",
              "    </tr>\n",
              "    <tr>\n",
              "      <th>2</th>\n",
              "      <td>ant. chest pain</td>\n",
              "      <td>3</td>\n",
              "      <td>Unstable angina</td>\n",
              "      <td>3,00</td>\n",
              "    </tr>\n",
              "    <tr>\n",
              "      <th>1</th>\n",
              "      <td>hematochezia</td>\n",
              "      <td>#BOÞ!</td>\n",
              "      <td>Complete blood count abnormality</td>\n",
              "      <td>11,20</td>\n",
              "    </tr>\n",
              "    <tr>\n",
              "      <th>1</th>\n",
              "      <td>pain, chest</td>\n",
              "      <td>10</td>\n",
              "      <td>Chest pain</td>\n",
              "      <td>4,68</td>\n",
              "    </tr>\n",
              "    <tr>\n",
              "      <th>1</th>\n",
              "      <td>dizziness</td>\n",
              "      <td>#BOÞ!</td>\n",
              "      <td>Dizziness</td>\n",
              "      <td>5,38</td>\n",
              "    </tr>\n",
              "    <tr>\n",
              "      <th>1</th>\n",
              "      <td>pain, chest</td>\n",
              "      <td>4</td>\n",
              "      <td>Sprain and strain of rib</td>\n",
              "      <td>8,90</td>\n",
              "    </tr>\n",
              "    <tr>\n",
              "      <th>2</th>\n",
              "      <td>abd pain</td>\n",
              "      <td>4</td>\n",
              "      <td>Crohn’s disease, unspecified, unspecified</td>\n",
              "      <td>5,00</td>\n",
              "    </tr>\n",
              "    <tr>\n",
              "      <th>2</th>\n",
              "      <td>Vaginal Bleeding</td>\n",
              "      <td>#BOÞ!</td>\n",
              "      <td>Delayed and secondary postpartum haemorrhage</td>\n",
              "      <td>1,00</td>\n",
              "    </tr>\n",
              "    <tr>\n",
              "      <th>2</th>\n",
              "      <td>chest palpitation</td>\n",
              "      <td>#BOÞ!</td>\n",
              "      <td>Supraventricular tachycardia</td>\n",
              "      <td>3,00</td>\n",
              "    </tr>\n",
              "    <tr>\n",
              "      <th>1</th>\n",
              "      <td>general weakness</td>\n",
              "      <td>#BOÞ!</td>\n",
              "      <td>Fever</td>\n",
              "      <td>6,87</td>\n",
              "    </tr>\n",
              "    <tr>\n",
              "      <th>2</th>\n",
              "      <td>LOC</td>\n",
              "      <td>3</td>\n",
              "      <td>Syncope</td>\n",
              "      <td>2,00</td>\n",
              "    </tr>\n",
              "    <tr>\n",
              "      <th>1</th>\n",
              "      <td>eye discomfort</td>\n",
              "      <td>#BOÞ!</td>\n",
              "      <td>Corneal erosion</td>\n",
              "      <td>3,45</td>\n",
              "    </tr>\n",
              "  </tbody>\n",
              "</table>\n",
              "</div>"
            ],
            "text/plain": [
              "          Queja_Principal dolor_NRS  \\\n",
              "Grupo                                 \n",
              "1                 syncope     #BOÞ!   \n",
              "1      voiding difficulty     #BOÞ!   \n",
              "1               dizziness     #BOÞ!   \n",
              "1                   fever     #BOÞ!   \n",
              "2         ant. chest pain         3   \n",
              "1            hematochezia     #BOÞ!   \n",
              "1             pain, chest        10   \n",
              "1               dizziness     #BOÞ!   \n",
              "1             pain, chest         4   \n",
              "2                abd pain         4   \n",
              "2        Vaginal Bleeding     #BOÞ!   \n",
              "2       chest palpitation     #BOÞ!   \n",
              "1        general weakness     #BOÞ!   \n",
              "2                     LOC         3   \n",
              "1          eye discomfort     #BOÞ!   \n",
              "\n",
              "                            Diagnostico_En_Urgencias Duracion_KTAS_Min  \n",
              "Grupo                                                                   \n",
              "1                                            Syncope              4,27  \n",
              "1      Benign prostatic hyperplasia with obstruction              8,12  \n",
              "1                                 Gallbladder cancer              5,38  \n",
              "1                               Acute pyelonephritis              9,67  \n",
              "2                                    Unstable angina              3,00  \n",
              "1                   Complete blood count abnormality             11,20  \n",
              "1                                         Chest pain              4,68  \n",
              "1                                          Dizziness              5,38  \n",
              "1                           Sprain and strain of rib              8,90  \n",
              "2          Crohn’s disease, unspecified, unspecified              5,00  \n",
              "2       Delayed and secondary postpartum haemorrhage              1,00  \n",
              "2                       Supraventricular tachycardia              3,00  \n",
              "1                                              Fever              6,87  \n",
              "2                                            Syncope              2,00  \n",
              "1                                    Corneal erosion              3,45  "
            ]
          },
          "execution_count": 984,
          "metadata": {},
          "output_type": "execute_result"
        }
      ],
      "source": [
        "df_eps[name_cols_non_number].sample(15)"
      ]
    },
    {
      "cell_type": "markdown",
      "metadata": {},
      "source": [
        "El valor `#BOÞ!` se reemplaza por nulos, ya que no representan nada"
      ]
    },
    {
      "cell_type": "code",
      "execution_count": 985,
      "metadata": {},
      "outputs": [],
      "source": [
        "df_eps['dolor_NRS'] = df_eps['dolor_NRS'].replace('#BOÞ!', np.nan)"
      ]
    },
    {
      "cell_type": "markdown",
      "metadata": {},
      "source": [
        "\n",
        "El análisis de estas variables evidencia que:\n",
        "- **Diversidad y variabilidad:**  \n",
        "  Tanto en \"Queja_Principal\" como en \"Diagnostico_En_Urgencias\" se observa una alta diversidad de respuestas, lo que puede complicar la interpretación directa y sugerir la necesidad de normalizar la información.\n",
        "- **Problemas en la calidad de datos:**  \n",
        "  La variable \"dolor_NRS\" contiene un valor erróneo predominante, lo que impide interpretar correctamente la escala del dolor sin una limpieza previa, por lo tanto, es tentativa para eliminar.\n",
        "- **Formato numérico:**  \n",
        "  \"Duracion_KTAS_Min\" requiere ajuste en el formato decimal para asegurar análisis correctos.\n"
      ]
    },
    {
      "cell_type": "markdown",
      "metadata": {},
      "source": [
        "## 1.4 Análisis de calidad de datos\n",
        "\n",
        "Revisamos las dimensiones de calidad: unicidad, completitud, consistencia, validez.\n",
        "En particular miramos si se presenta algún problema de calidad relacionado con la dimensión y pensamos en opciones para su posterior corrección en la etapa de preparación. "
      ]
    },
    {
      "cell_type": "markdown",
      "metadata": {},
      "source": [
        "### 1.4.1 Completitud - Análisis de valores nulos o vacíos"
      ]
    },
    {
      "cell_type": "code",
      "execution_count": 986,
      "metadata": {},
      "outputs": [
        {
          "data": {
            "text/plain": [
              "Saturacion                  0.556\n",
              "dolor_NRS                   0.440\n",
              "DBP                         0.021\n",
              "SBP                         0.017\n",
              "RR                          0.015\n",
              "HR                          0.012\n",
              "BT                          0.011\n",
              "Diagnostico_En_Urgencias    0.001\n",
              "KTAS_enfermera              0.000\n",
              "Duracion_KTAS_Min           0.000\n",
              "Duracion_Estancia_Min       0.000\n",
              "Grupo_De_Error              0.000\n",
              "KTAS_experto                0.000\n",
              "Disposicion                 0.000\n",
              "Sexo                        0.000\n",
              "Edad                        0.000\n",
              "Dolor                       0.000\n",
              "Estado_Mental               0.000\n",
              "Queja_Principal             0.000\n",
              "Lesion                      0.000\n",
              "Modo_Llegada                0.000\n",
              "Error_Triaje                0.000\n",
              "dtype: float64"
            ]
          },
          "execution_count": 986,
          "metadata": {},
          "output_type": "execute_result"
        }
      ],
      "source": [
        "((df_eps.isnull().sum()/df_eps.shape[0])).sort_values(ascending=False) "
      ]
    },
    {
      "cell_type": "markdown",
      "metadata": {},
      "source": [
        "\n",
        "- **Saturacion:**  \n",
        "  - **55.6%** de los registros son nulos.  \n",
        "  - Esto indica una pérdida significativa de información en esta variable, lo que puede limitar su utilidad en análisis posteriores.\n",
        "\n",
        "- **dolor_NRS:**  \n",
        "  - **44%** de los registros son nulos.  \n",
        "  - Esto indica una pérdida significativa de información en esta variable, lo que puede limitar su utilidad en análisis posteriores.\n",
        "\n",
        "\n",
        "- **DBP y SBP:**  \n",
        "  - **DBP:** 2.1% nulos  \n",
        "  - **SBP:** 1.7% nulos  \n",
        "  - Aunque el porcentaje de valores faltantes es relativamente bajo, es importante verificar si estos pocos casos pueden afectar de manera significativa.\n",
        "\n",
        "- **RR, HR y BT:**  \n",
        "  - **RR:** 1.5% nulos  \n",
        "  - **HR:** 1.2% nulos  \n",
        "  - **BT:** 1.1% nulos  \n",
        "  - Estos porcentajes indican una pérdida mínima de datos.\n",
        "\n",
        "- **Diagnostico_En_Urgencias:**  \n",
        "  - Solo 44% de los registros son nulos, lo que sugiere que la gran mayoría de los pacientes cuentan con un diagnóstico registrado.\n",
        "\n",
        "Las variables que presenta mayor preocupación es **Saturacion** y **dolor_NRS** debido a la alta tasa de valores faltantes, mientras que el resto de las variables numéricas mantienen niveles de completitud muy altos, generalmente superiores al 98%. Este análisis sugiere que se debe eliminar la columna Saturación y dolor_NRS para tener un análisis más claro y preciso puesto a que saturación limita el análisis, para completar los valores numéricos que se tienen como nulos, se llenaron con el promedio de los datos que se tiene actualmente, para los diagnósticos se llenó con \"desconocido\", adicionalmente en las columnas numéricas se llenaron los faltantes con el promedio de cada columna.\n",
        "\n"
      ]
    },
    {
      "cell_type": "markdown",
      "metadata": {},
      "source": [
        "### 1.4.2 Unicidad"
      ]
    },
    {
      "cell_type": "code",
      "execution_count": 987,
      "metadata": {},
      "outputs": [
        {
          "data": {
            "text/plain": [
              "66"
            ]
          },
          "execution_count": 987,
          "metadata": {},
          "output_type": "execute_result"
        }
      ],
      "source": [
        "num_duplicados = df_eps.duplicated(keep = False).sum() \n",
        "num_duplicados"
      ]
    },
    {
      "cell_type": "markdown",
      "metadata": {},
      "source": [
        "El resultado indica que existen 66 filas duplicadas en el DataFrame. Esto significa que 66 registros son idénticos a otros, lo que podría representar datos redundantes en la información. Se asume que al tener filas idénticas significa que se proceso dos veces el mismo paciente, ya que es imposible que un paciente tenga las mismas características clínicas que otro."
      ]
    },
    {
      "cell_type": "markdown",
      "metadata": {},
      "source": [
        "### 1.4.3 Consistencia\n",
        "\n",
        "Se observó que es posible transformar la `Duracion_KTAS_Min` en float con el fin de seguir con la consistencia y se revisó que los datos fueran consistentes con el diccionario de datos."
      ]
    },
    {
      "cell_type": "code",
      "execution_count": 988,
      "metadata": {},
      "outputs": [
        {
          "name": "stdout",
          "output_type": "stream",
          "text": [
            "Valores convertibles a float en Duracion_KTAS_Min: 1000 / 1000\n"
          ]
        }
      ],
      "source": [
        "# Crear una versión temporal de la columna \"Duracion_KTAS_Min\" que reemplace comas por puntos y trate de convertir a float\n",
        "duracion_ktas_temp = pd.to_numeric(df_eps['Duracion_KTAS_Min'].str.replace(',', '.', regex=False), errors='coerce')\n",
        "\n",
        "# Contar cuántos valores se pueden convertir correctamente (es decir, que no son NaN)\n",
        "count_Duracion_KTAS_float = duracion_ktas_temp.notna().sum()\n",
        "\n",
        "print(\"Valores convertibles a float en Duracion_KTAS_Min: \" + str(count_Duracion_KTAS_float) + \" / \" + str(df_eps.shape[0]))\n"
      ]
    },
    {
      "cell_type": "code",
      "execution_count": 989,
      "metadata": {},
      "outputs": [
        {
          "data": {
            "text/plain": [
              "Sexo\n",
              "2    514\n",
              "1    486\n",
              "Name: count, dtype: int64"
            ]
          },
          "execution_count": 989,
          "metadata": {},
          "output_type": "execute_result"
        }
      ],
      "source": [
        "df_eps.Sexo.value_counts()"
      ]
    },
    {
      "cell_type": "code",
      "execution_count": 990,
      "metadata": {},
      "outputs": [
        {
          "data": {
            "text/plain": [
              "Modo_Llegada\n",
              "3    588\n",
              "2    220\n",
              "4    122\n",
              "1     60\n",
              "6      7\n",
              "5      2\n",
              "7      1\n",
              "Name: count, dtype: int64"
            ]
          },
          "execution_count": 990,
          "metadata": {},
          "output_type": "execute_result"
        }
      ],
      "source": [
        "df_eps.Modo_Llegada.value_counts()"
      ]
    },
    {
      "cell_type": "code",
      "execution_count": 991,
      "metadata": {},
      "outputs": [
        {
          "data": {
            "text/plain": [
              "Lesion\n",
              "1    800\n",
              "2    200\n",
              "Name: count, dtype: int64"
            ]
          },
          "execution_count": 991,
          "metadata": {},
          "output_type": "execute_result"
        }
      ],
      "source": [
        "df_eps.Lesion.value_counts()"
      ]
    },
    {
      "cell_type": "code",
      "execution_count": 992,
      "metadata": {},
      "outputs": [
        {
          "data": {
            "text/plain": [
              "Estado_Mental\n",
              "1    936\n",
              "2     33\n",
              "3     23\n",
              "4      8\n",
              "Name: count, dtype: int64"
            ]
          },
          "execution_count": 992,
          "metadata": {},
          "output_type": "execute_result"
        }
      ],
      "source": [
        "df_eps.Estado_Mental.value_counts()"
      ]
    },
    {
      "cell_type": "code",
      "execution_count": 993,
      "metadata": {},
      "outputs": [
        {
          "data": {
            "text/plain": [
              "Dolor\n",
              "1    562\n",
              "0    438\n",
              "Name: count, dtype: int64"
            ]
          },
          "execution_count": 993,
          "metadata": {},
          "output_type": "execute_result"
        }
      ],
      "source": [
        "df_eps.Dolor.value_counts()"
      ]
    },
    {
      "cell_type": "code",
      "execution_count": 994,
      "metadata": {},
      "outputs": [
        {
          "data": {
            "text/plain": [
              "KTAS_enfermera\n",
              "4    400\n",
              "3    363\n",
              "2    166\n",
              "5     59\n",
              "1     12\n",
              "Name: count, dtype: int64"
            ]
          },
          "execution_count": 994,
          "metadata": {},
          "output_type": "execute_result"
        }
      ],
      "source": [
        "df_eps.KTAS_enfermera.value_counts()"
      ]
    },
    {
      "cell_type": "code",
      "execution_count": 995,
      "metadata": {},
      "outputs": [
        {
          "data": {
            "text/plain": [
              "Disposicion\n",
              "1    633\n",
              "2    288\n",
              "5     28\n",
              "4     22\n",
              "7     17\n",
              "6      6\n",
              "3      6\n",
              "Name: count, dtype: int64"
            ]
          },
          "execution_count": 995,
          "metadata": {},
          "output_type": "execute_result"
        }
      ],
      "source": [
        "df_eps.Disposicion.value_counts()"
      ]
    },
    {
      "cell_type": "code",
      "execution_count": 996,
      "metadata": {},
      "outputs": [
        {
          "data": {
            "text/plain": [
              "KTAS_experto\n",
              "3    391\n",
              "4    369\n",
              "2    171\n",
              "5     50\n",
              "1     19\n",
              "Name: count, dtype: int64"
            ]
          },
          "execution_count": 996,
          "metadata": {},
          "output_type": "execute_result"
        }
      ],
      "source": [
        "df_eps.KTAS_experto.value_counts()"
      ]
    },
    {
      "cell_type": "code",
      "execution_count": 997,
      "metadata": {},
      "outputs": [
        {
          "data": {
            "text/plain": [
              "Grupo_De_Error\n",
              "0    851\n",
              "4     50\n",
              "2     39\n",
              "1     16\n",
              "5     11\n",
              "8      9\n",
              "7      7\n",
              "6      6\n",
              "3      6\n",
              "9      5\n",
              "Name: count, dtype: int64"
            ]
          },
          "execution_count": 997,
          "metadata": {},
          "output_type": "execute_result"
        }
      ],
      "source": [
        "df_eps.Grupo_De_Error.value_counts()"
      ]
    },
    {
      "cell_type": "code",
      "execution_count": 998,
      "metadata": {},
      "outputs": [
        {
          "data": {
            "text/plain": [
              "Duracion_Estancia_Min\n",
              "0       15\n",
              "46       7\n",
              "129      7\n",
              "182      7\n",
              "172      6\n",
              "        ..\n",
              "596      1\n",
              "9989     1\n",
              "9791     1\n",
              "780      1\n",
              "1070     1\n",
              "Name: count, Length: 618, dtype: int64"
            ]
          },
          "execution_count": 998,
          "metadata": {},
          "output_type": "execute_result"
        }
      ],
      "source": [
        "df_eps.Duracion_Estancia_Min.value_counts()"
      ]
    },
    {
      "cell_type": "code",
      "execution_count": 999,
      "metadata": {},
      "outputs": [
        {
          "data": {
            "text/plain": [
              "Duracion_KTAS_Min\n",
              "2,00     133\n",
              "3,00     117\n",
              "4,00     112\n",
              "5,00      65\n",
              "1,00      30\n",
              "        ... \n",
              "14,00      1\n",
              "11,43      1\n",
              "4,70       1\n",
              "11,77      1\n",
              "13,28      1\n",
              "Name: count, Length: 335, dtype: int64"
            ]
          },
          "execution_count": 999,
          "metadata": {},
          "output_type": "execute_result"
        }
      ],
      "source": [
        "df_eps.Duracion_KTAS_Min.value_counts()"
      ]
    },
    {
      "cell_type": "code",
      "execution_count": 1000,
      "metadata": {},
      "outputs": [
        {
          "data": {
            "text/plain": [
              "Error_Triaje\n",
              "0    851\n",
              "2    104\n",
              "1     45\n",
              "Name: count, dtype: int64"
            ]
          },
          "execution_count": 1000,
          "metadata": {},
          "output_type": "execute_result"
        }
      ],
      "source": [
        "df_eps.Error_Triaje.value_counts()"
      ]
    },
    {
      "cell_type": "markdown",
      "metadata": {},
      "source": [
        "Se puede decir que la única columna del dataframe que es inconsistente es `Modo_Llegada`, puesto a que tiene valores hasta 7, siendo 5 su máximo, por lo cual, cuando su valor fue mayor a 5, se asumirá que pertenecía a otro, puesto a que no existía valores tales como 6 y 7."
      ]
    },
    {
      "cell_type": "markdown",
      "metadata": {},
      "source": [
        "### 1.4.4 Validez\n",
        "\n",
        "Revisamos los valores distintos de las diferentes variables, aún no revisadas, para validar su valor."
      ]
    },
    {
      "cell_type": "code",
      "execution_count": 1001,
      "metadata": {},
      "outputs": [
        {
          "name": "stdout",
          "output_type": "stream",
          "text": [
            "Columna: Sexo\n",
            "Número de valores únicos: 2\n",
            "Columna: Edad\n",
            "Número de valores únicos: 78\n",
            "Columna: Modo_Llegada\n",
            "Número de valores únicos: 7\n",
            "Columna: Lesion\n",
            "Número de valores únicos: 2\n",
            "Columna: Queja_Principal\n",
            "Número de valores únicos: 347\n",
            "Columna: Estado_Mental\n",
            "Número de valores únicos: 4\n",
            "Columna: Dolor\n",
            "Número de valores únicos: 2\n",
            "Columna: dolor_NRS\n",
            "Número de valores únicos: 11\n",
            "Columna: SBP\n",
            "Número de valores únicos: 125\n",
            "Columna: DBP\n",
            "Número de valores únicos: 79\n",
            "Columna: HR\n",
            "Número de valores únicos: 88\n",
            "Columna: RR\n",
            "Número de valores únicos: 11\n",
            "Columna: BT\n",
            "Número de valores únicos: 38\n",
            "Columna: Saturacion\n",
            "Número de valores únicos: 20\n",
            "Columna: KTAS_enfermera\n",
            "Número de valores únicos: 5\n",
            "Columna: Diagnostico_En_Urgencias\n",
            "Número de valores únicos: 490\n",
            "Columna: Disposicion\n",
            "Número de valores únicos: 7\n",
            "Columna: KTAS_experto\n",
            "Número de valores únicos: 5\n",
            "Columna: Grupo_De_Error\n",
            "Número de valores únicos: 10\n",
            "Columna: Duracion_Estancia_Min\n",
            "Número de valores únicos: 618\n",
            "Columna: Duracion_KTAS_Min\n",
            "Número de valores únicos: 335\n",
            "Columna: Error_Triaje\n",
            "Número de valores únicos: 3\n"
          ]
        }
      ],
      "source": [
        "\n",
        "# Iteramos sobre cada columna del DataFrame\n",
        "for col in df_eps.columns:\n",
        "    print(f\"Columna: {col}\")\n",
        "    # Número de valores únicos (incluyendo NaN)\n",
        "    num_unique = df_eps[col].nunique(dropna=False)\n",
        "    print(\"Número de valores únicos:\", num_unique)\n",
        "\n"
      ]
    },
    {
      "cell_type": "markdown",
      "metadata": {},
      "source": [
        "Se puede decir lo siguiente respecto a la validez de los datos:\n",
        "\n",
        "- **Sexo**  \n",
        "  - *Esperado:* 2 categorías (1 = Femenino, 2 = Masculino)  \n",
        "  - *Observado:* 2  \n",
        "  - *Conclusión:* Los datos de \"Sexo\" son válidos y consistentes.\n",
        "\n",
        "- **Edad**  \n",
        "  - *Esperado:* Valores numéricos representando la edad del paciente (amplia variabilidad)  \n",
        "  - *Observado:* 78 valores únicos  \n",
        "  - *Conclusión:* La diversidad en edades es normal; la variable es válida.\n",
        "\n",
        "- **Modo_Llegada**  \n",
        "  - *Esperado:* 5 categorías (1 = Caminando, 2 = Ambulancia Pública, 3 = Vehículo Privado, 4 = Ambulancia Privada, 5 = Otro)  \n",
        "  - *Observado:* 7  \n",
        "  - *Conclusión:* Se han identificado 2 códigos adicionales no documentados, lo que requiere actualización de la codificación.\n",
        "\n",
        "- **Lesion**  \n",
        "  - *Esperado:* 2 categorías (1 = Sí, 2 = No)  \n",
        "  - *Observado:* 2  \n",
        "  - *Conclusión:* Válido, los registros cumplen con la especificación.\n",
        "\n",
        "- **Queja_Principal**  \n",
        "  - *Esperado:* Texto libre con alta diversidad (debido a la variabilidad en la descripción de síntomas)  \n",
        "  - *Observado:* 347 valores únicos  \n",
        "  - *Conclusión:* La alta diversidad es esperable en una variable de texto libre; sin embargo, necesitará estandarización para análisis agrupados.\n",
        "\n",
        "- **Estado_Mental**  \n",
        "  - *Esperado:* 4 categorías (1 = Alerta, 2 = Respuesta Verbal, 3 = Respuesta al Dolor, 4 = No Responde)  \n",
        "  - *Observado:* 4  \n",
        "  - *Conclusión:* Válido.\n",
        "\n",
        "- **Dolor**  \n",
        "  - *Esperado:* 2 categorías recodificadas (0 = No dolor, 1 = Dolor)  \n",
        "  - *Observado:* 2  \n",
        "  - *Conclusión:* Válido, asumiendo que la recodificación se haya realizado correctamente.\n",
        "\n",
        "\n",
        "- **Dolor_NRS**  \n",
        "  - *Esperado:* Escala numérica de 1 a 10, representando el nivel de dolor  \n",
        "  - *Observado:* 11 valores únicos, incluyendo valores erróneos (p.ej. \"#BOÞ!\")  \n",
        "  - *Conclusión:* Existen datos atípicos o mal codificados; se requiere limpieza para transformar los datos a una escala numérica adecuada.\n",
        "\n",
        "- **SBP (Presión Sistólica)**  \n",
        "  - *Esperado:* Valores continuos dentro de un rango clínico (aproximadamente 50 a 275 mmHg)  \n",
        "  - *Observado:* 125 valores únicos  \n",
        "  - *Conclusión:* Hay una amplia variedad.\n",
        "\n",
        "- **DBP (Presión Diastólica)**  \n",
        "  - *Esperado:* Valores continuos en un rango clínico  \n",
        "  - *Observado:* 79 valores únicos  \n",
        "  - *Conclusión:* Válido, con la variabilidad esperada.\n",
        "\n",
        "- **HR (Frecuencia Cardíaca)**  \n",
        "  - *Esperado:* Valores continuos en rangos normales  \n",
        "  - *Observado:* 88 valores únicos  \n",
        "  - *Conclusión:* La variabilidad es normal en datos continuos.\n",
        "\n",
        "- **RR (Frecuencia Respiratoria)**  \n",
        "  - *Esperado:* Pocas categorías, dado el rango restringido en condiciones clínicas  \n",
        "  - *Observado:* 11  \n",
        "  - *Conclusión:* Hay una amplia variedad.\n",
        "\n",
        "- **BT (Temperatura Corporal)**  \n",
        "  - *Esperado:* Valores en un rango estrecho (aproximadamente 35–40 °C)  \n",
        "  - *Observado:* 38 valores únicos  \n",
        "  - *Conclusión:* Aceptable, aunque la precisión puede ser afinada con una revisión de los outliers.\n",
        "\n",
        "- **KTAS_enfermera**  \n",
        "  - *Esperado:* 5 categorías (1 = Emergencia Resucitativa hasta 5 = Consulta Médica no Urgente)  \n",
        "  - *Observado:* 5 valores únicos\n",
        "  - *Conclusión:* Los datos se ajustan a las categorías documentadas.\n",
        "\n",
        "- **Diagnostico_En_Urgencias**  \n",
        "  - *Esperado:* Texto libre con alta diversidad  \n",
        "  - *Observado:* 489 valores únicos  \n",
        "  - *Conclusión:* La alta variabilidad es normal en datos de diagnóstico, aunque podría necesitar agrupación para análisis posteriores.\n",
        "\n",
        "- **Disposicion**  \n",
        "  - *Esperado:* 7 categorías (1 a 7, según el destino final del paciente)  \n",
        "  - *Observado:* 7 categorías únicas\n",
        "  - *Conclusión:* Los datos se ajustan a las categorías documentadas.\n",
        "\n",
        "- **KTAS_experto**  \n",
        "  - *Esperado:* 5 categorías \n",
        "  - *Observado:* 5 valores únicos. \n",
        "  - *Conclusión:* Los datos se ajustan a las categorías documentadas.\n",
        "\n",
        "- **Grupo_Error**  \n",
        "  - *Esperado:* Indicador de error en la asignación del grupo (sin categorías definidas específicas, pero se espera baja incidencia)  \n",
        "  - *Observado:* 10 valores únicos\n",
        "  - *Conclusión:* La presencia de 10 categorías diferentes en \"Grupo_Error\" es mayor a lo que se podría esperar para un indicador de error.\n",
        "\n",
        "\n",
        "- **Duracion_Estancia_Min**  \n",
        "  - *Esperado:* Tiempo de hospitalización en minutos\n",
        "  - *Observado:* Alta cantidad de valores únicos \n",
        "  - *Conclusión:* Válido, pero se recomienda tratamiento de outliers para análisis robusto.\n",
        "\n",
        "- **Duracion_KTAS_Min**  \n",
        "  - *Esperado:* Duración de la evaluación KTAS en minutos, en formato numérico (nota: se requiere conversión de comas a puntos)  \n",
        "  - *Observado:* 335 valores únicos  \n",
        "  - *Conclusión:* La diversidad es esperada, pero es fundamental convertir correctamente el formato para asegurar la precisión en el análisis.\n",
        "\n",
        "- **Error_Triaje**  \n",
        "  - *Esperado:* Indicador de errores en la clasificación del triaje como 0,1 y 2\n",
        "  - *Observado:* 3 valores únicos  \n",
        "  - *Conclusión:* Válido, siempre que las 3 categorías correspondan a los diferentes grados de error en el triaje.\n",
        "\n"
      ]
    },
    {
      "cell_type": "markdown",
      "metadata": {},
      "source": [
        "## 1.5 Procesamiento de datos"
      ]
    },
    {
      "cell_type": "markdown",
      "metadata": {},
      "source": [
        "### 1.5.1 Procesamiento de datos categóricos y numéricos"
      ]
    },
    {
      "cell_type": "markdown",
      "metadata": {},
      "source": [
        "Se empieza eliminando las dos columans con más datos vacíos como Saturación y dolor_NRS ( se puede eliminar ya que dolor también representa lo mismo). Las columnas numéricas con un % de vacíos bajo se promedia la columan y se agregan los valores faltantes."
      ]
    },
    {
      "cell_type": "code",
      "execution_count": 1002,
      "metadata": {},
      "outputs": [
        {
          "name": "stdout",
          "output_type": "stream",
          "text": [
            "Sexo                        0\n",
            "Edad                        0\n",
            "Modo_Llegada                0\n",
            "Lesion                      0\n",
            "Queja_Principal             0\n",
            "Estado_Mental               0\n",
            "Dolor                       0\n",
            "SBP                         0\n",
            "DBP                         0\n",
            "HR                          0\n",
            "RR                          0\n",
            "BT                          0\n",
            "KTAS_enfermera              0\n",
            "Diagnostico_En_Urgencias    0\n",
            "Disposicion                 0\n",
            "KTAS_experto                0\n",
            "Grupo_De_Error              0\n",
            "Duracion_Estancia_Min       0\n",
            "Duracion_KTAS_Min           0\n",
            "Error_Triaje                0\n",
            "dtype: int64\n"
          ]
        }
      ],
      "source": [
        "# Eliminar la columna \"Saturacion\" \n",
        "df_eps = df_eps.drop(columns=['Saturacion'])\n",
        "\n",
        "# Eliminar la columna \"dolor_NRS\"\n",
        "df_eps = df_eps.drop(columns=['dolor_NRS'])\n",
        "\n",
        "# Completar los valores faltantes en las columnas numéricas con el promedio de cada columna\n",
        "# Seleccionamos las columnas numéricas\n",
        "numeric_cols = df_eps.select_dtypes(include=['int64', 'float64']).columns\n",
        "df_eps[numeric_cols] = df_eps[numeric_cols].fillna(df_eps[numeric_cols].mean())\n",
        "\n",
        "# Completar los valores faltantes en la columna de diagnósticos con \"desconocido\"\n",
        "df_eps['Diagnostico_En_Urgencias'] = df_eps['Diagnostico_En_Urgencias'].fillna(\"desconocido\")\n",
        "\n",
        "# Verificación de que no hallan valores nulos\n",
        "print(df_eps.isnull().sum())"
      ]
    },
    {
      "cell_type": "markdown",
      "metadata": {},
      "source": [
        "Se eliminan las filas duplicadas del dataframe."
      ]
    },
    {
      "cell_type": "code",
      "execution_count": 1003,
      "metadata": {},
      "outputs": [
        {
          "name": "stdout",
          "output_type": "stream",
          "text": [
            "Número de filas duplicadas antes de eliminar: 66\n",
            "Número de filas duplicadas después de eliminar: 0\n"
          ]
        }
      ],
      "source": [
        "print(\"Número de filas duplicadas antes de eliminar:\", num_duplicados)\n",
        "\n",
        "# Eliminar las filas duplicadas, conservando la primera aparición de cada registro\n",
        "df_eps = df_eps.drop_duplicates()\n",
        "\n",
        "# Verificar que se han eliminado\n",
        "num_duplicados_post = df_eps.duplicated().sum()\n",
        "print(\"Número de filas duplicadas después de eliminar:\", num_duplicados_post)"
      ]
    },
    {
      "cell_type": "markdown",
      "metadata": {},
      "source": [
        "Se transforma la columna `Duracion_KTAS_Min` en float"
      ]
    },
    {
      "cell_type": "code",
      "execution_count": 1004,
      "metadata": {},
      "outputs": [
        {
          "name": "stdout",
          "output_type": "stream",
          "text": [
            "Valores convertidos a float en Duracion_KTAS_Min:967/967\n"
          ]
        }
      ],
      "source": [
        "# Primero, reemplazamos las comas por puntos en la columna \"Duracion_KTAS_Min\"\n",
        "df_eps['Duracion_KTAS_Min'] = df_eps['Duracion_KTAS_Min'].str.replace(',', '.', regex=False)\n",
        "\n",
        "# Convertir la columna a tipo float\n",
        "df_eps['Duracion_KTAS_Min'] = pd.to_numeric(df_eps['Duracion_KTAS_Min'], errors='coerce')\n",
        "\n",
        "# Contar cuántos valores se convirtieron correctamente (no NaN)\n",
        "count_Duracion_KTAS_float = df_eps['Duracion_KTAS_Min'].notna().sum()\n",
        "\n",
        "print(\"Valores convertidos a float en Duracion_KTAS_Min:\" + str(count_Duracion_KTAS_float) + \"/\" + str(df_eps.shape[0]))"
      ]
    },
    {
      "cell_type": "markdown",
      "metadata": {},
      "source": [
        "Se cambian los Modo_Llegada 6 y 7 a 5"
      ]
    },
    {
      "cell_type": "code",
      "execution_count": 1005,
      "metadata": {},
      "outputs": [
        {
          "name": "stdout",
          "output_type": "stream",
          "text": [
            "Modo_Llegada\n",
            "3    567\n",
            "2    213\n",
            "4    118\n",
            "1     59\n",
            "5     10\n",
            "Name: count, dtype: int64\n"
          ]
        }
      ],
      "source": [
        "# Reemplazar los valores 6 y 7 en \"Modo_Llegada\" por 5\n",
        "df_eps.loc[df_eps['Modo_Llegada'].isin([6, 7]), 'Modo_Llegada'] = 5\n",
        "\n",
        "# Verificar los cambios\n",
        "print(df_eps['Modo_Llegada'].value_counts())\n"
      ]
    },
    {
      "cell_type": "markdown",
      "metadata": {},
      "source": [
        "### 1.5.2 Procesamiento de texto"
      ]
    },
    {
      "cell_type": "markdown",
      "metadata": {},
      "source": [
        "#### 1.5.2.1 Limpieza de los datos\n",
        "\n",
        "Para dejar los textos en texto plano, sobre todo cuando vienen de diferentes fuentes médicas y coloquiales. También para eliminar caracteres especiales y pasar todo a minúscula."
      ]
    },
    {
      "cell_type": "code",
      "execution_count": 1006,
      "metadata": {},
      "outputs": [
        {
          "name": "stderr",
          "output_type": "stream",
          "text": [
            "[nltk_data] Downloading package stopwords to\n",
            "[nltk_data]     /Users/juanjo/nltk_data...\n",
            "[nltk_data]   Package stopwords is already up-to-date!\n"
          ]
        }
      ],
      "source": [
        "import re\n",
        "import unicodedata\n",
        "import inflect\n",
        "import nltk\n",
        "from nltk.corpus import stopwords\n",
        "\n",
        "# Descarga de recursos de NLTK (si aún no se han descargado)\n",
        "nltk.download('stopwords')\n",
        "\n",
        "def remove_non_ascii(words):\n",
        "    \"\"\"Elimina caracteres no-ASCII de una lista de tokens.\"\"\"\n",
        "    new_words = []\n",
        "    for word in words:\n",
        "        if word is not None:\n",
        "            new_word = unicodedata.normalize('NFKD', word).encode('ascii', 'ignore').decode('utf-8', 'ignore')\n",
        "            new_words.append(new_word)\n",
        "    return new_words\n",
        "\n",
        "def to_lowercase(words):\n",
        "    \"\"\"Convierte todos los tokens a minúsculas.\"\"\"\n",
        "    return [word.lower() for word in words if word is not None]\n",
        "\n",
        "def remove_punctuation(words):\n",
        "    \"\"\"Elimina signos de puntuación de una lista de tokens.\"\"\"\n",
        "    new_words = []\n",
        "    for word in words:\n",
        "        if word is not None:\n",
        "            new_word = re.sub(r'[^\\w\\s]', '', word)\n",
        "            if new_word != '':\n",
        "                new_words.append(new_word)\n",
        "    return new_words\n",
        "\n",
        "def replace_numbers(words):\n",
        "    \"\"\"Reemplaza tokens numéricos por su representación en texto.\"\"\"\n",
        "    p = inflect.engine()\n",
        "    new_words = []\n",
        "    for word in words:\n",
        "        if word.isdigit():\n",
        "            new_word = p.number_to_words(word)\n",
        "            new_words.append(new_word)\n",
        "        else:\n",
        "            new_words.append(word)\n",
        "    return new_words\n",
        "\n",
        "def remove_stopwords(words):\n",
        "    \"\"\"Elimina stopwords de una lista de tokens.\"\"\"\n",
        "    stop_words = set(stopwords.words('spanish'))\n",
        "    return [word for word in words if word not in stop_words]\n",
        "\n",
        "def preprocessing(words):\n",
        "    \"\"\"Aplica una serie de pasos de preprocesamiento a una lista de tokens.\"\"\"\n",
        "    if words is None:\n",
        "        return [\"unknown\"]\n",
        "    words = to_lowercase(words)\n",
        "    words = replace_numbers(words)\n",
        "    words = remove_punctuation(words)\n",
        "    words = remove_non_ascii(words)\n",
        "    words = remove_stopwords(words)\n",
        "    if not words:\n",
        "        return [\"unknown\"]\n",
        "    return words\n",
        "\n"
      ]
    },
    {
      "cell_type": "markdown",
      "metadata": {},
      "source": [
        "#### 1.5.2.2 Tokenización\n",
        "\n",
        "La tokenización permite dividir frases u oraciones en palabras. Con el fin de desglozar las palabras correctamente para el posterior análisis. Pero primero, se realiza una corrección de las contracciones que pueden estar presentes en los textos."
      ]
    },
    {
      "cell_type": "code",
      "execution_count": 1007,
      "metadata": {},
      "outputs": [],
      "source": [
        "# Aplicar la corrección de las contracciones a las columnas \"Queja_Principal\" y \"Diagnostico_En_Urgencias\"\n",
        "df_eps['Queja_Principal'] = df_eps['Queja_Principal'].apply(contractions.fix)\n",
        "df_eps['Diagnostico_En_Urgencias'] = df_eps['Diagnostico_En_Urgencias'].apply(contractions.fix)"
      ]
    },
    {
      "cell_type": "code",
      "execution_count": 1008,
      "metadata": {},
      "outputs": [
        {
          "data": {
            "text/plain": [
              "Grupo\n",
              "2    [ant, ., chest, pain]\n",
              "2               [headache]\n",
              "2    [ant, ., chest, pain]\n",
              "2               [headache]\n",
              "1        [fever, &, chill]\n",
              "Name: Queja_Principal, dtype: object"
            ]
          },
          "execution_count": 1008,
          "metadata": {},
          "output_type": "execute_result"
        }
      ],
      "source": [
        "df_eps['Queja_Principal'] = df_eps['Queja_Principal'].apply(word_tokenize)\n",
        "df_eps['Queja_Principal'].head()"
      ]
    },
    {
      "cell_type": "code",
      "execution_count": 1009,
      "metadata": {},
      "outputs": [
        {
          "data": {
            "text/plain": [
              "Grupo\n",
              "2                       [Ischaemic, chest, pain]\n",
              "2    [Subarachnoid, haemorrhage, ,, unspecified]\n",
              "2       [Contusion, of, front, wall, of, thorax]\n",
              "2                                     [Headache]\n",
              "1                                        [Fever]\n",
              "Name: Diagnostico_En_Urgencias, dtype: object"
            ]
          },
          "execution_count": 1009,
          "metadata": {},
          "output_type": "execute_result"
        }
      ],
      "source": [
        "df_eps['Diagnostico_En_Urgencias'] = df_eps['Diagnostico_En_Urgencias'].apply(word_tokenize)\n",
        "df_eps['Diagnostico_En_Urgencias'].head()"
      ]
    },
    {
      "cell_type": "markdown",
      "metadata": {},
      "source": [
        "Luego de tokenización se aplica la eliminación de ruido, si alguna columna está vacía se rellana con \"unknown\""
      ]
    },
    {
      "cell_type": "code",
      "execution_count": 1010,
      "metadata": {},
      "outputs": [],
      "source": [
        "df_eps['Queja_Principal'] = df_eps['Queja_Principal'].apply(preprocessing)\n",
        "df_eps['Diagnostico_En_Urgencias'] = df_eps['Diagnostico_En_Urgencias'].apply(preprocessing)"
      ]
    },
    {
      "cell_type": "markdown",
      "metadata": {},
      "source": [
        "#### 1.5.2.3 Normalización\n",
        "\n",
        "En la normalización de los datos se realiza la eliminación de prefijos y sufijos, además de realizar una lemmatización."
      ]
    },
    {
      "cell_type": "code",
      "execution_count": 1011,
      "metadata": {},
      "outputs": [],
      "source": [
        "# Cargar el modelo de spaCy para inglés\n",
        "nlp = spacy.load(\"en_core_web_sm\")\n",
        "\n",
        "# Inicializar el stemmer para inglés\n",
        "stemmer = SnowballStemmer(\"english\")\n",
        "\n",
        "def stem_words(words):\n",
        "    \"\"\"Realiza stemming en una lista de palabras tokenizadas utilizando SnowballStemmer para inglés.\"\"\"\n",
        "    return [stemmer.stem(word) for word in words]\n",
        "\n",
        "def lemmatize_verbs(words):\n",
        "    \"\"\"Realiza lematización en una lista de palabras tokenizadas utilizando spaCy para inglés.\n",
        "    Si el modelo de spaCy no está disponible, retorna la lista original.\"\"\"\n",
        "    if nlp is None:\n",
        "        return words\n",
        "    # Combinar las palabras en una sola cadena para procesarla con spaCy\n",
        "    doc = nlp(\" \".join(words))\n",
        "    # Retornar el lema de cada token\n",
        "    return [token.lemma_ for token in doc]\n",
        "\n",
        "def stem_and_lemmatize(words):\n",
        "    \"\"\"Combina el stemming y la lematización para una lista de palabras tokenizadas.\n",
        "    Retorna una lista que contiene ambos conjuntos de resultados sin duplicados.\"\"\"\n",
        "    stems = stem_words(words)\n",
        "    lemmas = lemmatize_verbs(words)\n",
        "    return list(set(stems + lemmas))\n",
        "\n"
      ]
    },
    {
      "cell_type": "markdown",
      "metadata": {},
      "source": [
        "Se lematiza y se coloca en la columan original"
      ]
    },
    {
      "cell_type": "code",
      "execution_count": 1012,
      "metadata": {},
      "outputs": [],
      "source": [
        "# Primero, aplicar la función de stemming y lematización a las columnas de palabras tokenizadas\n",
        "df_eps['Queja_Principal'] = df_eps['Queja_Principal'].apply(stem_and_lemmatize)\n",
        "df_eps['Diagnostico_En_Urgencias'] = df_eps['Diagnostico_En_Urgencias'].apply(stem_and_lemmatize)\n",
        "\n",
        "# Luego, unir la lista de tokens en una sola cadena y asignarla de nuevo a las columnas originales\n",
        "df_eps['Queja_Principal'] = df_eps['Queja_Principal'].apply(lambda x: ' '.join(map(str, x)))\n",
        "df_eps['Diagnostico_En_Urgencias'] = df_eps['Diagnostico_En_Urgencias'].apply(lambda x: ' '.join(map(str, x)))\n"
      ]
    },
    {
      "cell_type": "code",
      "execution_count": 1013,
      "metadata": {},
      "outputs": [
        {
          "data": {
            "text/plain": [
              "Grupo\n",
              "2      chest pain ant\n",
              "2    headache headach\n",
              "2      chest pain ant\n",
              "2    headache headach\n",
              "1         fever chill\n",
              "Name: Queja_Principal, dtype: object"
            ]
          },
          "execution_count": 1013,
          "metadata": {},
          "output_type": "execute_result"
        }
      ],
      "source": [
        "df_eps['Queja_Principal'].head()"
      ]
    },
    {
      "cell_type": "code",
      "execution_count": 1014,
      "metadata": {},
      "outputs": [
        {
          "data": {
            "text/plain": [
              "Grupo\n",
              "2                         pain ischaem chest ischaemic\n",
              "2    haemorrhag unspecifi unspecified haemorrhage s...\n",
              "2                contusion wall front of contus thorax\n",
              "2                                     headache headach\n",
              "1                                                fever\n",
              "Name: Diagnostico_En_Urgencias, dtype: object"
            ]
          },
          "execution_count": 1014,
          "metadata": {},
          "output_type": "execute_result"
        }
      ],
      "source": [
        "df_eps['Diagnostico_En_Urgencias'].head()"
      ]
    },
    {
      "cell_type": "markdown",
      "metadata": {},
      "source": [
        "#### Proceso de Preprocesamiento para Machine Learning no supervisado\n",
        "\n",
        "- **Normalización:** Convertir el texto a minúsculas y corregir contracciones para reducir la variabilidad.\n",
        "- **Tokenización y Limpieza:** Dividir el texto en palabras y eliminar puntuación, stopwords y caracteres no deseados.\n",
        "- **Stemming y Lematización:** Reducir las palabras a su raíz o forma canónica para agrupar variantes y disminuir la dimensionalidad.\n",
        "- **Vectorización:** Convertir el texto preprocesado en una representación numérica para que el algoritmo k-means pueda calcular distancias y agrupar documentos de forma efectiva.\n"
      ]
    },
    {
      "cell_type": "markdown",
      "metadata": {},
      "source": [
        "# 2. Modelamiento"
      ]
    },
    {
      "cell_type": "markdown",
      "metadata": {},
      "source": [
        "## 2.1 Implementación de Agglomerative Clustering"
      ]
    },
    {
      "cell_type": "markdown",
      "metadata": {},
      "source": [
        "**Descripción del Algoritmo**  \n",
        "Agglomerative Clustering es un algoritmo jerárquico de agrupación que comienza tratando cada muestra como un cluster individual. En cada iteración, fusiona los clusters más cercanos según una métrica de distancia. No requiere la definición de centros y puede capturar estructuras jerárquicas en los datos.\n",
        "\n",
        "**Decisiones Importantes y Hiperparámetros**  \n",
        "- **Número de clusters (`n_clusters`):** 2 en este caso.  \n",
        "- **Linkage (`linkage`):** `ward`, para minimizar la varianza intra-cluster.  \n",
        "- **Preprocesamiento:**  \n",
        "  - Se escalan las variables numéricas con `StandardScaler`.  \n",
        "  - Se vectorizan las columnas de texto con `TfidfVectorizer`.  \n",
        "  - Se combinan ambas en un `ColumnTransformer`.\n",
        "\n",
        "Esta configuración integra variables numéricas y textuales en un único espacio de características para la agrupación."
      ]
    },
    {
      "cell_type": "code",
      "execution_count": 1017,
      "metadata": {},
      "outputs": [
        {
          "name": "stdout",
          "output_type": "stream",
          "text": [
            "        Queja_Principal                           Diagnostico_En_Urgencias  \\\n",
            "Grupo                                                                        \n",
            "2        chest pain ant                       pain ischaem chest ischaemic   \n",
            "2      headache headach  haemorrhag unspecifi unspecified haemorrhage s...   \n",
            "2        chest pain ant              contusion wall front of contus thorax   \n",
            "2      headache headach                                   headache headach   \n",
            "1           fever chill                                              fever   \n",
            "\n",
            "       cluster  \n",
            "Grupo           \n",
            "2            1  \n",
            "2            1  \n",
            "2            2  \n",
            "2            1  \n",
            "1            1  \n"
          ]
        }
      ],
      "source": [
        "# Definir columnas numéricas y de texto\n",
        "numeric_features = [\n",
        "    'Sexo', 'Edad', 'Modo_Llegada', 'Lesion',\n",
        "       'Estado_Mental', 'Dolor', 'SBP', 'DBP', 'HR', 'RR', 'BT',\n",
        "       'KTAS_enfermera', 'Disposicion',\n",
        "       'KTAS_experto', 'Grupo_De_Error', 'Duracion_Estancia_Min',\n",
        "       'Duracion_KTAS_Min', 'Error_Triaje'\n",
        "]\n",
        "text_features = ['Queja_Principal', 'Diagnostico_En_Urgencias']\n",
        "\n",
        "# Construir el preprocesador\n",
        "preprocessor = ColumnTransformer(\n",
        "    transformers=[\n",
        "        ('num', StandardScaler(), numeric_features),\n",
        "        ('text1', TfidfVectorizer(), 'Queja_Principal'),\n",
        "        ('text2', TfidfVectorizer(), 'Diagnostico_En_Urgencias')\n",
        "    ]\n",
        ")\n",
        "\n",
        "# Transformar los datos\n",
        "X_preprocessed = preprocessor.fit_transform(df_eps)\n",
        "\n",
        "# Convertir la salida a array denso si es necesario\n",
        "if hasattr(X_preprocessed, \"toarray\"):\n",
        "    X_preprocessed = X_preprocessed.toarray()\n",
        "else:\n",
        "    X_preprocessed = np.array(X_preprocessed)\n",
        "\n",
        "# Configurar y entrenar el modelo de Agglomerative Clustering con 2 clusters\n",
        "clustering_model = AgglomerativeClustering(n_clusters=2, linkage='ward')\n",
        "clusters = clustering_model.fit_predict(X_preprocessed)\n",
        "\n",
        "# Por defecto, AgglomerativeClustering devuelve 0 y 1. Si se desean las etiquetas 1 y 2:\n",
        "clusters = clusters + 1\n",
        "\n",
        "# Agregar los clusters al DataFrame\n",
        "df_eps['cluster'] = clusters\n",
        "\n",
        "# Mostrar una muestra de la columna cluster con las variables de texto\n",
        "print(df_eps[['Queja_Principal', 'Diagnostico_En_Urgencias', 'cluster']].head())"
      ]
    }
  ],
  "metadata": {
    "colab": {
      "provenance": []
    },
    "kernelspec": {
      "display_name": "Python 3",
      "name": "python3"
    },
    "language_info": {
      "codemirror_mode": {
        "name": "ipython",
        "version": 3
      },
      "file_extension": ".py",
      "mimetype": "text/x-python",
      "name": "python",
      "nbconvert_exporter": "python",
      "pygments_lexer": "ipython3",
      "version": "3.9.2"
    }
  },
  "nbformat": 4,
  "nbformat_minor": 0
}
