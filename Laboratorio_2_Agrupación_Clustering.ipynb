{
  "cells": [
    {
      "cell_type": "markdown",
      "metadata": {
        "id": "PSO0N4nm5iiy"
      },
      "source": [
        "# Preparación de datos"
      ]
    },
    {
      "cell_type": "markdown",
      "metadata": {
        "id": "kNmS9yEZ5tG1"
      },
      "source": [
        "## 1.1 Carga de librerías necesarias para implementación"
      ]
    },
    {
      "cell_type": "code",
      "execution_count": 1,
      "metadata": {},
      "outputs": [
        {
          "name": "stdout",
          "output_type": "stream",
          "text": [
            "Requirement already satisfied: pandas in /Users/juanjo/.pyenv/versions/3.9.2/lib/python3.9/site-packages (2.2.3)\n",
            "Requirement already satisfied: numpy>=1.22.4 in /Users/juanjo/.pyenv/versions/3.9.2/lib/python3.9/site-packages (from pandas) (1.26.4)\n",
            "Requirement already satisfied: python-dateutil>=2.8.2 in /Users/juanjo/.pyenv/versions/3.9.2/lib/python3.9/site-packages (from pandas) (2.9.0.post0)\n",
            "Requirement already satisfied: pytz>=2020.1 in /Users/juanjo/.pyenv/versions/3.9.2/lib/python3.9/site-packages (from pandas) (2025.1)\n",
            "Requirement already satisfied: tzdata>=2022.7 in /Users/juanjo/.pyenv/versions/3.9.2/lib/python3.9/site-packages (from pandas) (2025.1)\n",
            "Requirement already satisfied: six>=1.5 in /Users/juanjo/.pyenv/versions/3.9.2/lib/python3.9/site-packages (from python-dateutil>=2.8.2->pandas) (1.17.0)\n",
            "Requirement already satisfied: numpy in /Users/juanjo/.pyenv/versions/3.9.2/lib/python3.9/site-packages (1.26.4)\n",
            "Requirement already satisfied: matplotlib in /Users/juanjo/.pyenv/versions/3.9.2/lib/python3.9/site-packages (3.9.4)\n",
            "Requirement already satisfied: contourpy>=1.0.1 in /Users/juanjo/.pyenv/versions/3.9.2/lib/python3.9/site-packages (from matplotlib) (1.3.0)\n",
            "Requirement already satisfied: cycler>=0.10 in /Users/juanjo/.pyenv/versions/3.9.2/lib/python3.9/site-packages (from matplotlib) (0.12.1)\n",
            "Requirement already satisfied: fonttools>=4.22.0 in /Users/juanjo/.pyenv/versions/3.9.2/lib/python3.9/site-packages (from matplotlib) (4.55.8)\n",
            "Requirement already satisfied: kiwisolver>=1.3.1 in /Users/juanjo/.pyenv/versions/3.9.2/lib/python3.9/site-packages (from matplotlib) (1.4.7)\n",
            "Requirement already satisfied: numpy>=1.23 in /Users/juanjo/.pyenv/versions/3.9.2/lib/python3.9/site-packages (from matplotlib) (1.26.4)\n",
            "Requirement already satisfied: packaging>=20.0 in /Users/juanjo/.pyenv/versions/3.9.2/lib/python3.9/site-packages (from matplotlib) (24.2)\n",
            "Requirement already satisfied: pillow>=8 in /Users/juanjo/.pyenv/versions/3.9.2/lib/python3.9/site-packages (from matplotlib) (11.1.0)\n",
            "Requirement already satisfied: pyparsing>=2.3.1 in /Users/juanjo/.pyenv/versions/3.9.2/lib/python3.9/site-packages (from matplotlib) (3.2.1)\n",
            "Requirement already satisfied: python-dateutil>=2.7 in /Users/juanjo/.pyenv/versions/3.9.2/lib/python3.9/site-packages (from matplotlib) (2.9.0.post0)\n",
            "Requirement already satisfied: importlib-resources>=3.2.0 in /Users/juanjo/.pyenv/versions/3.9.2/lib/python3.9/site-packages (from matplotlib) (6.5.2)\n",
            "Requirement already satisfied: zipp>=3.1.0 in /Users/juanjo/.pyenv/versions/3.9.2/lib/python3.9/site-packages (from importlib-resources>=3.2.0->matplotlib) (3.21.0)\n",
            "Requirement already satisfied: six>=1.5 in /Users/juanjo/.pyenv/versions/3.9.2/lib/python3.9/site-packages (from python-dateutil>=2.7->matplotlib) (1.17.0)\n",
            "Requirement already satisfied: seaborn in /Users/juanjo/.pyenv/versions/3.9.2/lib/python3.9/site-packages (0.13.2)\n",
            "Requirement already satisfied: numpy!=1.24.0,>=1.20 in /Users/juanjo/.pyenv/versions/3.9.2/lib/python3.9/site-packages (from seaborn) (1.26.4)\n",
            "Requirement already satisfied: pandas>=1.2 in /Users/juanjo/.pyenv/versions/3.9.2/lib/python3.9/site-packages (from seaborn) (2.2.3)\n",
            "Requirement already satisfied: matplotlib!=3.6.1,>=3.4 in /Users/juanjo/.pyenv/versions/3.9.2/lib/python3.9/site-packages (from seaborn) (3.9.4)\n",
            "Requirement already satisfied: contourpy>=1.0.1 in /Users/juanjo/.pyenv/versions/3.9.2/lib/python3.9/site-packages (from matplotlib!=3.6.1,>=3.4->seaborn) (1.3.0)\n",
            "Requirement already satisfied: cycler>=0.10 in /Users/juanjo/.pyenv/versions/3.9.2/lib/python3.9/site-packages (from matplotlib!=3.6.1,>=3.4->seaborn) (0.12.1)\n",
            "Requirement already satisfied: fonttools>=4.22.0 in /Users/juanjo/.pyenv/versions/3.9.2/lib/python3.9/site-packages (from matplotlib!=3.6.1,>=3.4->seaborn) (4.55.8)\n",
            "Requirement already satisfied: kiwisolver>=1.3.1 in /Users/juanjo/.pyenv/versions/3.9.2/lib/python3.9/site-packages (from matplotlib!=3.6.1,>=3.4->seaborn) (1.4.7)\n",
            "Requirement already satisfied: packaging>=20.0 in /Users/juanjo/.pyenv/versions/3.9.2/lib/python3.9/site-packages (from matplotlib!=3.6.1,>=3.4->seaborn) (24.2)\n",
            "Requirement already satisfied: pillow>=8 in /Users/juanjo/.pyenv/versions/3.9.2/lib/python3.9/site-packages (from matplotlib!=3.6.1,>=3.4->seaborn) (11.1.0)\n",
            "Requirement already satisfied: pyparsing>=2.3.1 in /Users/juanjo/.pyenv/versions/3.9.2/lib/python3.9/site-packages (from matplotlib!=3.6.1,>=3.4->seaborn) (3.2.1)\n",
            "Requirement already satisfied: python-dateutil>=2.7 in /Users/juanjo/.pyenv/versions/3.9.2/lib/python3.9/site-packages (from matplotlib!=3.6.1,>=3.4->seaborn) (2.9.0.post0)\n",
            "Requirement already satisfied: importlib-resources>=3.2.0 in /Users/juanjo/.pyenv/versions/3.9.2/lib/python3.9/site-packages (from matplotlib!=3.6.1,>=3.4->seaborn) (6.5.2)\n",
            "Requirement already satisfied: pytz>=2020.1 in /Users/juanjo/.pyenv/versions/3.9.2/lib/python3.9/site-packages (from pandas>=1.2->seaborn) (2025.1)\n",
            "Requirement already satisfied: tzdata>=2022.7 in /Users/juanjo/.pyenv/versions/3.9.2/lib/python3.9/site-packages (from pandas>=1.2->seaborn) (2025.1)\n",
            "Requirement already satisfied: zipp>=3.1.0 in /Users/juanjo/.pyenv/versions/3.9.2/lib/python3.9/site-packages (from importlib-resources>=3.2.0->matplotlib!=3.6.1,>=3.4->seaborn) (3.21.0)\n",
            "Requirement already satisfied: six>=1.5 in /Users/juanjo/.pyenv/versions/3.9.2/lib/python3.9/site-packages (from python-dateutil>=2.7->matplotlib!=3.6.1,>=3.4->seaborn) (1.17.0)\n",
            "Collecting sklearn\n",
            "  Using cached sklearn-0.0.post12.tar.gz (2.6 kB)\n",
            "  Preparing metadata (setup.py) ... \u001b[?25lerror\n",
            "  \u001b[1;31merror\u001b[0m: \u001b[1msubprocess-exited-with-error\u001b[0m\n",
            "  \n",
            "  \u001b[31m×\u001b[0m \u001b[32mpython setup.py egg_info\u001b[0m did not run successfully.\n",
            "  \u001b[31m│\u001b[0m exit code: \u001b[1;36m1\u001b[0m\n",
            "  \u001b[31m╰─>\u001b[0m \u001b[31m[15 lines of output]\u001b[0m\n",
            "  \u001b[31m   \u001b[0m The 'sklearn' PyPI package is deprecated, use 'scikit-learn'\n",
            "  \u001b[31m   \u001b[0m rather than 'sklearn' for pip commands.\n",
            "  \u001b[31m   \u001b[0m \n",
            "  \u001b[31m   \u001b[0m Here is how to fix this error in the main use cases:\n",
            "  \u001b[31m   \u001b[0m - use 'pip install scikit-learn' rather than 'pip install sklearn'\n",
            "  \u001b[31m   \u001b[0m - replace 'sklearn' by 'scikit-learn' in your pip requirements files\n",
            "  \u001b[31m   \u001b[0m   (requirements.txt, setup.py, setup.cfg, Pipfile, etc ...)\n",
            "  \u001b[31m   \u001b[0m - if the 'sklearn' package is used by one of your dependencies,\n",
            "  \u001b[31m   \u001b[0m   it would be great if you take some time to track which package uses\n",
            "  \u001b[31m   \u001b[0m   'sklearn' instead of 'scikit-learn' and report it to their issue tracker\n",
            "  \u001b[31m   \u001b[0m - as a last resort, set the environment variable\n",
            "  \u001b[31m   \u001b[0m   SKLEARN_ALLOW_DEPRECATED_SKLEARN_PACKAGE_INSTALL=True to avoid this error\n",
            "  \u001b[31m   \u001b[0m \n",
            "  \u001b[31m   \u001b[0m More information is available at\n",
            "  \u001b[31m   \u001b[0m https://github.com/scikit-learn/sklearn-pypi-package\n",
            "  \u001b[31m   \u001b[0m \u001b[31m[end of output]\u001b[0m\n",
            "  \n",
            "  \u001b[1;35mnote\u001b[0m: This error originates from a subprocess, and is likely not a problem with pip.\n",
            "\u001b[?25h\u001b[1;31merror\u001b[0m: \u001b[1mmetadata-generation-failed\u001b[0m\n",
            "\n",
            "\u001b[31m×\u001b[0m Encountered error while generating package metadata.\n",
            "\u001b[31m╰─>\u001b[0m See above for output.\n",
            "\n",
            "\u001b[1;35mnote\u001b[0m: This is an issue with the package mentioned above, not pip.\n",
            "\u001b[1;36mhint\u001b[0m: See above for details.\n",
            "\u001b[31mERROR: Could not find a version that satisfies the requirement mpl_toolkits (from versions: none)\u001b[0m\u001b[31m\n",
            "\u001b[0m\u001b[31mERROR: No matching distribution found for mpl_toolkits\u001b[0m\u001b[31m\n",
            "\u001b[0m"
          ]
        }
      ],
      "source": [
        "!pip install pandas\n",
        "!pip install numpy\n",
        "!pip install matplotlib\n",
        "!pip install seaborn\n",
        "!pip install sklearn\n",
        "!pip install mpl_toolkits"
      ]
    },
    {
      "cell_type": "code",
      "execution_count": 2,
      "metadata": {
        "id": "Y_5RhSD95cXr"
      },
      "outputs": [],
      "source": [
        "import pandas as pd\n",
        "import numpy as np\n",
        "import matplotlib.pyplot as plt\n",
        "import seaborn as sns; sns.set()\n",
        "\n",
        "from sklearn.preprocessing import StandardScaler\n",
        "from sklearn.cluster import KMeans\n",
        "from sklearn.metrics import silhouette_samples, silhouette_score\n",
        "from sklearn.preprocessing import MinMaxScaler\n",
        "\n",
        "from matplotlib import cm\n",
        "from mpl_toolkits.mplot3d import Axes3D"
      ]
    },
    {
      "cell_type": "markdown",
      "metadata": {
        "id": "sRYxqKKY6NzE"
      },
      "source": [
        "## 1.2 Cargar los datos"
      ]
    },
    {
      "cell_type": "code",
      "execution_count": 3,
      "metadata": {
        "id": "GJ1GWMqM6RTy"
      },
      "outputs": [],
      "source": [
        "# Se cargan los datos.\n",
        "df_eps=pd.read_csv('202420_Laboratorio 2 - Agrupación_202420_Laboratorio_2_-_Agrupación_data.csv', sep=',', encoding = 'utf-8', index_col=0)"
      ]
    },
    {
      "cell_type": "markdown",
      "metadata": {
        "id": "edcVP8OV6dGx"
      },
      "source": [
        "## 1.3 Perfilamiento y entendimiento de los datos"
      ]
    }
  ],
  "metadata": {
    "colab": {
      "provenance": []
    },
    "kernelspec": {
      "display_name": "Python 3",
      "name": "python3"
    },
    "language_info": {
      "codemirror_mode": {
        "name": "ipython",
        "version": 3
      },
      "file_extension": ".py",
      "mimetype": "text/x-python",
      "name": "python",
      "nbconvert_exporter": "python",
      "pygments_lexer": "ipython3",
      "version": "3.9.2"
    }
  },
  "nbformat": 4,
  "nbformat_minor": 0
}
